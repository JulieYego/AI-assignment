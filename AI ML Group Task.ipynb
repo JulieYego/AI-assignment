{
  "nbformat": 4,
  "nbformat_minor": 0,
  "metadata": {
    "colab": {
      "name": "AI_ANN.ipynb",
      "provenance": [],
      "collapsed_sections": [],
      "authorship_tag": "ABX9TyM0VKPU8aDFMXGRLB9ZpxPK",
      "include_colab_link": true
    },
    "kernelspec": {
      "name": "python3",
      "display_name": "Python 3"
    },
    "language_info": {
      "name": "python"
    }
  },
  "cells": [
    {
      "cell_type": "markdown",
      "metadata": {
        "id": "view-in-github",
        "colab_type": "text"
      },
      "source": [
        "<a href=\"https://colab.research.google.com/github/JulieYego/AI-assignment/blob/main/AI%20ML%20Group%20Task.ipynb\" target=\"_parent\"><img src=\"https://colab.research.google.com/assets/colab-badge.svg\" alt=\"Open In Colab\"/></a>"
      ]
    },
    {
      "cell_type": "code",
      "metadata": {
        "id": "kdyu7qXhrfo8"
      },
      "source": [
        "import pandas as pd #dataset library\n",
        "import numpy as np #linear algebra library"
      ],
      "execution_count": 43,
      "outputs": []
    },
    {
      "cell_type": "code",
      "metadata": {
        "id": "7PUXRoI9schv"
      },
      "source": [
        "from numpy import array #library for the matrices\n",
        "from sklearn.preprocessing import Normalizer #ML library\n",
        "from keras.activations import sigmoid #library for sigmoid function\n",
        "from keras.losses import mse #library for mean squared error\n",
        "from numpy.random import uniform,normal #library for generating random numbers"
      ],
      "execution_count": 44,
      "outputs": []
    },
    {
      "cell_type": "markdown",
      "metadata": {
        "id": "RF1C8UFa7k0c"
      },
      "source": [
        "Hyperparameters"
      ]
    },
    {
      "cell_type": "code",
      "metadata": {
        "id": "8TtqvZ0e7kZ-"
      },
      "source": [
        "batch_size = 2\n",
        "learning_param = 0.07"
      ],
      "execution_count": 45,
      "outputs": []
    },
    {
      "cell_type": "markdown",
      "metadata": {
        "id": "dhkh0nU08sdq"
      },
      "source": [
        "Data Transformation"
      ]
    },
    {
      "cell_type": "code",
      "metadata": {
        "id": "04X_RNxjsnxF"
      },
      "source": [
        "data_dict = {'Day 1':[30,40,50,20,15,60],'Day 2':[40,50,20,15,60,70],\n",
        "           'Day 3':[50,20,15,60,70,50],'Target':[20,15,60,70,50,40]}"
      ],
      "execution_count": 46,
      "outputs": []
    },
    {
      "cell_type": "code",
      "metadata": {
        "id": "pmbCCBCBsiRe"
      },
      "source": [
        "data = pd.DataFrame(data_dict)"
      ],
      "execution_count": 47,
      "outputs": []
    },
    {
      "cell_type": "code",
      "metadata": {
        "colab": {
          "base_uri": "https://localhost:8080/",
          "height": 237
        },
        "id": "mZedii4LxVET",
        "outputId": "5ff8de46-b701-4376-83a5-00859aeadb57"
      },
      "source": [
        "data"
      ],
      "execution_count": 48,
      "outputs": [
        {
          "output_type": "execute_result",
          "data": {
            "text/html": [
              "<div>\n",
              "<style scoped>\n",
              "    .dataframe tbody tr th:only-of-type {\n",
              "        vertical-align: middle;\n",
              "    }\n",
              "\n",
              "    .dataframe tbody tr th {\n",
              "        vertical-align: top;\n",
              "    }\n",
              "\n",
              "    .dataframe thead th {\n",
              "        text-align: right;\n",
              "    }\n",
              "</style>\n",
              "<table border=\"1\" class=\"dataframe\">\n",
              "  <thead>\n",
              "    <tr style=\"text-align: right;\">\n",
              "      <th></th>\n",
              "      <th>Day 1</th>\n",
              "      <th>Day 2</th>\n",
              "      <th>Day 3</th>\n",
              "      <th>Target</th>\n",
              "    </tr>\n",
              "  </thead>\n",
              "  <tbody>\n",
              "    <tr>\n",
              "      <th>0</th>\n",
              "      <td>30</td>\n",
              "      <td>40</td>\n",
              "      <td>50</td>\n",
              "      <td>20</td>\n",
              "    </tr>\n",
              "    <tr>\n",
              "      <th>1</th>\n",
              "      <td>40</td>\n",
              "      <td>50</td>\n",
              "      <td>20</td>\n",
              "      <td>15</td>\n",
              "    </tr>\n",
              "    <tr>\n",
              "      <th>2</th>\n",
              "      <td>50</td>\n",
              "      <td>20</td>\n",
              "      <td>15</td>\n",
              "      <td>60</td>\n",
              "    </tr>\n",
              "    <tr>\n",
              "      <th>3</th>\n",
              "      <td>20</td>\n",
              "      <td>15</td>\n",
              "      <td>60</td>\n",
              "      <td>70</td>\n",
              "    </tr>\n",
              "    <tr>\n",
              "      <th>4</th>\n",
              "      <td>15</td>\n",
              "      <td>60</td>\n",
              "      <td>70</td>\n",
              "      <td>50</td>\n",
              "    </tr>\n",
              "    <tr>\n",
              "      <th>5</th>\n",
              "      <td>60</td>\n",
              "      <td>70</td>\n",
              "      <td>50</td>\n",
              "      <td>40</td>\n",
              "    </tr>\n",
              "  </tbody>\n",
              "</table>\n",
              "</div>"
            ],
            "text/plain": [
              "   Day 1  Day 2  Day 3  Target\n",
              "0     30     40     50      20\n",
              "1     40     50     20      15\n",
              "2     50     20     15      60\n",
              "3     20     15     60      70\n",
              "4     15     60     70      50\n",
              "5     60     70     50      40"
            ]
          },
          "metadata": {},
          "execution_count": 48
        }
      ]
    },
    {
      "cell_type": "code",
      "metadata": {
        "id": "xjPwOGLCy2k7"
      },
      "source": [
        "x = data.drop('Target',axis=1)\n",
        "y = data['Target']"
      ],
      "execution_count": 49,
      "outputs": []
    },
    {
      "cell_type": "code",
      "metadata": {
        "id": "2bhVn-VX0gHs"
      },
      "source": [
        "x_trans = Normalizer(norm='max').fit_transform(x)"
      ],
      "execution_count": 50,
      "outputs": []
    },
    {
      "cell_type": "code",
      "metadata": {
        "colab": {
          "base_uri": "https://localhost:8080/"
        },
        "id": "uL2u8EFE1QYY",
        "outputId": "814d1092-4cef-41c0-c942-bfb06d0cc76a"
      },
      "source": [
        "np.reshape(array(y),(1,-1))"
      ],
      "execution_count": 51,
      "outputs": [
        {
          "output_type": "execute_result",
          "data": {
            "text/plain": [
              "array([[20, 15, 60, 70, 50, 40]])"
            ]
          },
          "metadata": {},
          "execution_count": 51
        }
      ]
    },
    {
      "cell_type": "code",
      "metadata": {
        "id": "E3JNOxux1BKa"
      },
      "source": [
        "y = Normalizer(norm='max').fit_transform(np.reshape(array(y),(1,-1)))"
      ],
      "execution_count": 52,
      "outputs": []
    },
    {
      "cell_type": "code",
      "metadata": {
        "colab": {
          "base_uri": "https://localhost:8080/"
        },
        "id": "ui03lru81pxq",
        "outputId": "1e34e546-950e-4698-8b98-e1100d3a0f13"
      },
      "source": [
        "y"
      ],
      "execution_count": 53,
      "outputs": [
        {
          "output_type": "execute_result",
          "data": {
            "text/plain": [
              "array([[0.28571429, 0.21428571, 0.85714286, 1.        , 0.71428571,\n",
              "        0.57142857]])"
            ]
          },
          "metadata": {},
          "execution_count": 53
        }
      ]
    },
    {
      "cell_type": "code",
      "metadata": {
        "colab": {
          "base_uri": "https://localhost:8080/"
        },
        "id": "miYp419hzCKN",
        "outputId": "4432d0e0-ade6-4156-c9e1-a63d622db189"
      },
      "source": [
        "x_trans"
      ],
      "execution_count": 54,
      "outputs": [
        {
          "output_type": "execute_result",
          "data": {
            "text/plain": [
              "array([[0.6       , 0.8       , 1.        ],\n",
              "       [0.8       , 1.        , 0.4       ],\n",
              "       [1.        , 0.4       , 0.3       ],\n",
              "       [0.33333333, 0.25      , 1.        ],\n",
              "       [0.21428571, 0.85714286, 1.        ],\n",
              "       [0.85714286, 1.        , 0.71428571]])"
            ]
          },
          "metadata": {},
          "execution_count": 54
        }
      ]
    },
    {
      "cell_type": "code",
      "metadata": {
        "id": "FBy33aWt085Y"
      },
      "source": [
        ""
      ],
      "execution_count": 54,
      "outputs": []
    },
    {
      "cell_type": "code",
      "metadata": {
        "colab": {
          "base_uri": "https://localhost:8080/"
        },
        "id": "zHNc9ARSyPoq",
        "outputId": "a67f3ace-1a4b-4ae9-a1ed-0567f40ad2ad"
      },
      "source": [
        "Normalizer().fit_transform(data) #transform the dataset"
      ],
      "execution_count": 55,
      "outputs": [
        {
          "output_type": "execute_result",
          "data": {
            "text/plain": [
              "array([[0.40824829, 0.54433105, 0.68041382, 0.27216553],\n",
              "       [0.58191437, 0.72739297, 0.29095719, 0.21821789],\n",
              "       [0.60971076, 0.2438843 , 0.18291323, 0.73165291],\n",
              "       [0.20936957, 0.15702718, 0.62810871, 0.73279349],\n",
              "       [0.14157875, 0.56631501, 0.66070085, 0.47192918],\n",
              "       [0.53452248, 0.62360956, 0.4454354 , 0.35634832]])"
            ]
          },
          "metadata": {},
          "execution_count": 55
        }
      ]
    },
    {
      "cell_type": "markdown",
      "metadata": {
        "id": "g5RG7tEV4rHF"
      },
      "source": [
        "ANN Model from Scratch"
      ]
    },
    {
      "cell_type": "code",
      "metadata": {
        "colab": {
          "base_uri": "https://localhost:8080/",
          "height": 35
        },
        "id": "sXN500Yh5AAO",
        "outputId": "f4554d11-3154-4d4d-c06d-794071e3def9"
      },
      "source": [
        "'''weight_1=array([[.2,.1],[.3,.1],[.2,.1]])\n",
        "weight_2=array([[.5],[.1]])'''"
      ],
      "execution_count": 56,
      "outputs": [
        {
          "output_type": "execute_result",
          "data": {
            "application/vnd.google.colaboratory.intrinsic+json": {
              "type": "string"
            },
            "text/plain": [
              "'weight_1=array([[.2,.1],[.3,.1],[.2,.1]])\\nweight_2=array([[.5],[.1]])'"
            ]
          },
          "metadata": {},
          "execution_count": 56
        }
      ]
    },
    {
      "cell_type": "code",
      "metadata": {
        "id": "yU4XQa19_S2P"
      },
      "source": [
        "weight_1 = uniform(-1,1,(3,2)) #shape of 3 by 2\n",
        "weight_2 = uniform(-1,1,(2,1)) #shape of 2 by 1"
      ],
      "execution_count": 57,
      "outputs": []
    },
    {
      "cell_type": "code",
      "metadata": {
        "id": "vh3stVfVcH9M",
        "colab": {
          "base_uri": "https://localhost:8080/"
        },
        "outputId": "956ad98a-6e86-4ff4-dbaf-845bb970cc43"
      },
      "source": [
        "weight_2"
      ],
      "execution_count": 58,
      "outputs": [
        {
          "output_type": "execute_result",
          "data": {
            "text/plain": [
              "array([[ 0.98100663],\n",
              "       [-0.29412575]])"
            ]
          },
          "metadata": {},
          "execution_count": 58
        }
      ]
    },
    {
      "cell_type": "code",
      "metadata": {
        "id": "JbUnP6qD5Z5b"
      },
      "source": [
        "x=x_trans"
      ],
      "execution_count": 59,
      "outputs": []
    },
    {
      "cell_type": "code",
      "metadata": {
        "id": "ShjAhjBs7yLn"
      },
      "source": [
        "batch_1 = x[0:batch_size]"
      ],
      "execution_count": 60,
      "outputs": []
    },
    {
      "cell_type": "code",
      "metadata": {
        "id": "T4HfzY1kvZHI",
        "colab": {
          "base_uri": "https://localhost:8080/"
        },
        "outputId": "1e4f4ea1-3846-4014-9b18-a7d0eb9616b1"
      },
      "source": [
        "batch_1"
      ],
      "execution_count": 61,
      "outputs": [
        {
          "output_type": "execute_result",
          "data": {
            "text/plain": [
              "array([[0.6, 0.8, 1. ],\n",
              "       [0.8, 1. , 0.4]])"
            ]
          },
          "metadata": {},
          "execution_count": 61
        }
      ]
    },
    {
      "cell_type": "code",
      "metadata": {
        "id": "iIJk3UJlvcW2"
      },
      "source": [
        "batch_2 = x[batch_size:4]"
      ],
      "execution_count": 62,
      "outputs": []
    },
    {
      "cell_type": "code",
      "metadata": {
        "id": "15ZG0jPzvizz",
        "colab": {
          "base_uri": "https://localhost:8080/"
        },
        "outputId": "eb1d7c5b-a344-4bd3-8594-f3e78072edf2"
      },
      "source": [
        "batch_2"
      ],
      "execution_count": 63,
      "outputs": [
        {
          "output_type": "execute_result",
          "data": {
            "text/plain": [
              "array([[1.        , 0.4       , 0.3       ],\n",
              "       [0.33333333, 0.25      , 1.        ]])"
            ]
          },
          "metadata": {},
          "execution_count": 63
        }
      ]
    },
    {
      "cell_type": "code",
      "metadata": {
        "id": "tkTkWULpvpIA"
      },
      "source": [
        "batch_3 = x[4:6]"
      ],
      "execution_count": 64,
      "outputs": []
    },
    {
      "cell_type": "code",
      "metadata": {
        "id": "xvnhf8jYvtMY",
        "colab": {
          "base_uri": "https://localhost:8080/"
        },
        "outputId": "d125418d-6c71-4909-d992-9d9c6a4181e1"
      },
      "source": [
        "batch_3"
      ],
      "execution_count": 65,
      "outputs": [
        {
          "output_type": "execute_result",
          "data": {
            "text/plain": [
              "array([[0.21428571, 0.85714286, 1.        ],\n",
              "       [0.85714286, 1.        , 0.71428571]])"
            ]
          },
          "metadata": {},
          "execution_count": 65
        }
      ]
    },
    {
      "cell_type": "code",
      "metadata": {
        "id": "OY7WRbIj8Ag0"
      },
      "source": [
        "#output_1 = x[0]@weight_1\n",
        "#output_1"
      ],
      "execution_count": 66,
      "outputs": []
    },
    {
      "cell_type": "markdown",
      "metadata": {
        "id": "U1JRYyQ8zofR"
      },
      "source": [
        "Sumation of the product of inputs and their weights for each batch"
      ]
    },
    {
      "cell_type": "markdown",
      "metadata": {
        "id": "fxItbr-UzyKL"
      },
      "source": [
        "Batch 1"
      ]
    },
    {
      "cell_type": "code",
      "metadata": {
        "colab": {
          "base_uri": "https://localhost:8080/"
        },
        "id": "E904jReF5f0O",
        "outputId": "7d146a76-1d9a-4755-e55a-8558a9543d48"
      },
      "source": [
        "output_1 = batch_1@weight_1\n",
        "output_1"
      ],
      "execution_count": 67,
      "outputs": [
        {
          "output_type": "execute_result",
          "data": {
            "text/plain": [
              "array([[ 1.1304151 , -0.25715703],\n",
              "       [ 0.60974599,  0.31261287]])"
            ]
          },
          "metadata": {},
          "execution_count": 67
        }
      ]
    },
    {
      "cell_type": "markdown",
      "metadata": {
        "id": "yB2Wx0I8zz5O"
      },
      "source": [
        "Batch 2"
      ]
    },
    {
      "cell_type": "code",
      "metadata": {
        "id": "tWkIQZ3cv2qR",
        "colab": {
          "base_uri": "https://localhost:8080/"
        },
        "outputId": "ef5072a2-10ac-4afa-d8e3-d7e6f0ffd51a"
      },
      "source": [
        "output_2 = batch_2@weight_1\n",
        "output_2"
      ],
      "execution_count": 68,
      "outputs": [
        {
          "output_type": "execute_result",
          "data": {
            "text/plain": [
              "array([[ 0.95236404,  0.47389996],\n",
              "       [ 1.15890198, -0.47051874]])"
            ]
          },
          "metadata": {},
          "execution_count": 68
        }
      ]
    },
    {
      "cell_type": "markdown",
      "metadata": {
        "id": "L89Te2TIz1cu"
      },
      "source": [
        "Batch 3"
      ]
    },
    {
      "cell_type": "code",
      "metadata": {
        "id": "RpENrD2twEdb",
        "colab": {
          "base_uri": "https://localhost:8080/"
        },
        "outputId": "28c13dc1-6f2f-43ea-ea77-b25e7b61a0af"
      },
      "source": [
        "output_3 = batch_3@weight_1\n",
        "output_3"
      ],
      "execution_count": 69,
      "outputs": [
        {
          "output_type": "execute_result",
          "data": {
            "text/plain": [
              "array([[ 0.78135753, -0.50727774],\n",
              "       [ 0.97006894,  0.12798271]])"
            ]
          },
          "metadata": {},
          "execution_count": 69
        }
      ]
    },
    {
      "cell_type": "markdown",
      "metadata": {
        "id": "pZzMyJBsz3As"
      },
      "source": [
        "Activation Function"
      ]
    },
    {
      "cell_type": "markdown",
      "metadata": {
        "id": "cjKHQcjgz8b9"
      },
      "source": [
        "Batch 1"
      ]
    },
    {
      "cell_type": "code",
      "metadata": {
        "colab": {
          "base_uri": "https://localhost:8080/"
        },
        "id": "_lG0GqL26bCV",
        "outputId": "5db2dccc-ab44-44ce-efb5-373ee6a9384a"
      },
      "source": [
        "act_output_1 = sigmoid(output_1).numpy()\n",
        "act_output_1"
      ],
      "execution_count": 70,
      "outputs": [
        {
          "output_type": "execute_result",
          "data": {
            "text/plain": [
              "array([[0.7559155 , 0.4360627 ],\n",
              "       [0.64788286, 0.57752291]])"
            ]
          },
          "metadata": {},
          "execution_count": 70
        }
      ]
    },
    {
      "cell_type": "markdown",
      "metadata": {
        "id": "Vdzqd9X4z-KA"
      },
      "source": [
        "Batch 2"
      ]
    },
    {
      "cell_type": "code",
      "metadata": {
        "id": "uaZ4AEs9wKUw",
        "colab": {
          "base_uri": "https://localhost:8080/"
        },
        "outputId": "c037fd59-7cdd-4166-8aea-3f3187b84cde"
      },
      "source": [
        "act_output_2 = sigmoid(output_2).numpy()\n",
        "act_output_2"
      ],
      "execution_count": 71,
      "outputs": [
        {
          "output_type": "execute_result",
          "data": {
            "text/plain": [
              "array([[0.72159036, 0.61630641],\n",
              "       [0.76113314, 0.38449347]])"
            ]
          },
          "metadata": {},
          "execution_count": 71
        }
      ]
    },
    {
      "cell_type": "markdown",
      "metadata": {
        "id": "bmi_jO450K0i"
      },
      "source": [
        "Batch 3"
      ]
    },
    {
      "cell_type": "code",
      "metadata": {
        "id": "w-_A3U4mwOzC",
        "colab": {
          "base_uri": "https://localhost:8080/"
        },
        "outputId": "acb95d06-4236-44c8-eb09-3629511dea6c"
      },
      "source": [
        "act_output_3 = sigmoid(output_3).numpy()\n",
        "act_output_3"
      ],
      "execution_count": 72,
      "outputs": [
        {
          "output_type": "execute_result",
          "data": {
            "text/plain": [
              "array([[0.68597262, 0.3758319 ],\n",
              "       [0.72513324, 0.53195207]])"
            ]
          },
          "metadata": {},
          "execution_count": 72
        }
      ]
    },
    {
      "cell_type": "markdown",
      "metadata": {
        "id": "FPEXYUy10QEr"
      },
      "source": [
        "Outputs multiplied by the hidden matrix and the predicted outcome and true outcome"
      ]
    },
    {
      "cell_type": "markdown",
      "metadata": {
        "id": "ztsdjkWN0cg7"
      },
      "source": [
        "Batch 1"
      ]
    },
    {
      "cell_type": "code",
      "metadata": {
        "colab": {
          "base_uri": "https://localhost:8080/"
        },
        "id": "NpyD_4CS6m70",
        "outputId": "232bbc47-5f5e-4861-a07b-9a97720f66d1"
      },
      "source": [
        "final_output_1 = act_output_1@weight_2\n",
        "final_output_1"
      ],
      "execution_count": 73,
      "outputs": [
        {
          "output_type": "execute_result",
          "data": {
            "text/plain": [
              "array([[0.61330085],\n",
              "       [0.46571302]])"
            ]
          },
          "metadata": {},
          "execution_count": 73
        }
      ]
    },
    {
      "cell_type": "code",
      "metadata": {
        "id": "JrRp6i9b9Y3p"
      },
      "source": [
        "y_true_1 = y[0][0:batch_size]\n",
        "y_pred_1 = final_output_1.T[0]"
      ],
      "execution_count": 74,
      "outputs": []
    },
    {
      "cell_type": "code",
      "metadata": {
        "colab": {
          "base_uri": "https://localhost:8080/"
        },
        "id": "XqZmBzYt9lET",
        "outputId": "74e3282a-867c-482c-ca1b-1a323ffcf1c2"
      },
      "source": [
        "y_true_1"
      ],
      "execution_count": 75,
      "outputs": [
        {
          "output_type": "execute_result",
          "data": {
            "text/plain": [
              "array([0.28571429, 0.21428571])"
            ]
          },
          "metadata": {},
          "execution_count": 75
        }
      ]
    },
    {
      "cell_type": "code",
      "metadata": {
        "colab": {
          "base_uri": "https://localhost:8080/"
        },
        "id": "Ukt-Xk7_9oNk",
        "outputId": "55216144-7270-495f-c9be-41d73179af18"
      },
      "source": [
        "y_pred_1.T"
      ],
      "execution_count": 76,
      "outputs": [
        {
          "output_type": "execute_result",
          "data": {
            "text/plain": [
              "array([0.61330085, 0.46571302])"
            ]
          },
          "metadata": {},
          "execution_count": 76
        }
      ]
    },
    {
      "cell_type": "markdown",
      "metadata": {
        "id": "-1c1H1OM0mjT"
      },
      "source": [
        "Batch 2"
      ]
    },
    {
      "cell_type": "code",
      "metadata": {
        "id": "MYjIX7HXwkuP",
        "colab": {
          "base_uri": "https://localhost:8080/"
        },
        "outputId": "229192dd-af01-4857-93c6-b9b036b9a0e4"
      },
      "source": [
        "final_output_2 = act_output_2@weight_2\n",
        "final_output_2"
      ],
      "execution_count": 77,
      "outputs": [
        {
          "output_type": "execute_result",
          "data": {
            "text/plain": [
              "array([[0.52661334],\n",
              "       [0.63358723]])"
            ]
          },
          "metadata": {},
          "execution_count": 77
        }
      ]
    },
    {
      "cell_type": "code",
      "metadata": {
        "id": "u6MMdPLLw-BV"
      },
      "source": [
        "y_true_2 = y[0][batch_size:4]\n",
        "y_pred_2 = final_output_2.T[0]"
      ],
      "execution_count": 78,
      "outputs": []
    },
    {
      "cell_type": "code",
      "metadata": {
        "id": "UqZ-TIPfxEuG",
        "colab": {
          "base_uri": "https://localhost:8080/"
        },
        "outputId": "b2940e45-7b6e-4e3c-fec4-ee51770d0b56"
      },
      "source": [
        "y_true_2"
      ],
      "execution_count": 79,
      "outputs": [
        {
          "output_type": "execute_result",
          "data": {
            "text/plain": [
              "array([0.85714286, 1.        ])"
            ]
          },
          "metadata": {},
          "execution_count": 79
        }
      ]
    },
    {
      "cell_type": "code",
      "metadata": {
        "id": "2pt-bXdTxPVr",
        "colab": {
          "base_uri": "https://localhost:8080/"
        },
        "outputId": "7b2d5b01-0878-46a6-c3e5-bd9443a6cc09"
      },
      "source": [
        "y_pred_2"
      ],
      "execution_count": 80,
      "outputs": [
        {
          "output_type": "execute_result",
          "data": {
            "text/plain": [
              "array([0.52661334, 0.63358723])"
            ]
          },
          "metadata": {},
          "execution_count": 80
        }
      ]
    },
    {
      "cell_type": "markdown",
      "metadata": {
        "id": "DUcz8_D80oI4"
      },
      "source": [
        "Batch 3"
      ]
    },
    {
      "cell_type": "code",
      "metadata": {
        "id": "C7gEAdkewrrO",
        "colab": {
          "base_uri": "https://localhost:8080/"
        },
        "outputId": "635f6e27-abb6-497d-fd74-ef4a6a0ae450"
      },
      "source": [
        "final_output_3 = act_output_3@weight_2\n",
        "final_output_3"
      ],
      "execution_count": 81,
      "outputs": [
        {
          "output_type": "execute_result",
          "data": {
            "text/plain": [
              "array([[0.56240185],\n",
              "       [0.55489972]])"
            ]
          },
          "metadata": {},
          "execution_count": 81
        }
      ]
    },
    {
      "cell_type": "code",
      "metadata": {
        "id": "hVs6O49TyII4"
      },
      "source": [
        "y_true_3 = y[0][4:6]\n",
        "y_pred_3 = final_output_3.T[0]"
      ],
      "execution_count": 82,
      "outputs": []
    },
    {
      "cell_type": "code",
      "metadata": {
        "id": "N62PlnKxyNCA",
        "colab": {
          "base_uri": "https://localhost:8080/"
        },
        "outputId": "6d0927ee-5200-4ae4-c8f6-6ec3298c76cf"
      },
      "source": [
        "y_true_3"
      ],
      "execution_count": 83,
      "outputs": [
        {
          "output_type": "execute_result",
          "data": {
            "text/plain": [
              "array([0.71428571, 0.57142857])"
            ]
          },
          "metadata": {},
          "execution_count": 83
        }
      ]
    },
    {
      "cell_type": "code",
      "metadata": {
        "id": "XGGoDffByTa4",
        "colab": {
          "base_uri": "https://localhost:8080/"
        },
        "outputId": "271af5a0-f996-47b8-f3d0-49b35fa68aff"
      },
      "source": [
        "y_pred_3"
      ],
      "execution_count": 84,
      "outputs": [
        {
          "output_type": "execute_result",
          "data": {
            "text/plain": [
              "array([0.56240185, 0.55489972])"
            ]
          },
          "metadata": {},
          "execution_count": 84
        }
      ]
    },
    {
      "cell_type": "markdown",
      "metadata": {
        "id": "h3oX-mwj8x_e"
      },
      "source": [
        "Computing Mean Squared Error"
      ]
    },
    {
      "cell_type": "code",
      "metadata": {
        "colab": {
          "base_uri": "https://localhost:8080/"
        },
        "id": "dxVsqIrx81E9",
        "outputId": "4cae633c-3577-4a86-8a48-f25f25975d54"
      },
      "source": [
        "mse(y_true_1,y_pred_1).numpy() #MSE error for batch 1"
      ],
      "execution_count": 85,
      "outputs": [
        {
          "output_type": "execute_result",
          "data": {
            "text/plain": [
              "0.0852643241734814"
            ]
          },
          "metadata": {},
          "execution_count": 85
        }
      ]
    },
    {
      "cell_type": "code",
      "metadata": {
        "id": "vmwTCDvzyYXM",
        "colab": {
          "base_uri": "https://localhost:8080/"
        },
        "outputId": "4029fb71-a18d-47ba-ba21-2f95d609d41d"
      },
      "source": [
        "mse(y_true_2,y_pred_2).numpy() #MSE error for batch 2"
      ],
      "execution_count": 86,
      "outputs": [
        {
          "output_type": "execute_result",
          "data": {
            "text/plain": [
              "0.1217540384423312"
            ]
          },
          "metadata": {},
          "execution_count": 86
        }
      ]
    },
    {
      "cell_type": "code",
      "metadata": {
        "id": "2KJ7WMOKzJp-",
        "colab": {
          "base_uri": "https://localhost:8080/"
        },
        "outputId": "11df7026-f704-4faf-88d3-35cffa722e8e"
      },
      "source": [
        "mse(y_true_3,y_pred_3).numpy() #MSE error for batch 3"
      ],
      "execution_count": 87,
      "outputs": [
        {
          "output_type": "execute_result",
          "data": {
            "text/plain": [
              "0.011670955724633633"
            ]
          },
          "metadata": {},
          "execution_count": 87
        }
      ]
    },
    {
      "cell_type": "markdown",
      "metadata": {
        "id": "vsZ8OmAkzTLd"
      },
      "source": [
        "Updating the weights using delta rules of error computation"
      ]
    },
    {
      "cell_type": "code",
      "metadata": {
        "id": "EgcG1SPDzb-u"
      },
      "source": [
        "#calculate the first order derivative of the sigmoid function \n",
        "def sigmoid(s, deriv=False):\n",
        "        if (deriv == True):\n",
        "            return s * (1 - s)\n",
        "        return 1/(1 + np.exp(-s))"
      ],
      "execution_count": 88,
      "outputs": []
    },
    {
      "cell_type": "code",
      "metadata": {
        "id": "Og4bka-LJeTv"
      },
      "source": [
        "def back(y, y_hat):\n",
        "        #error through the network\n",
        "        #y is the expected outcome(y_true)\n",
        "        output_error = y - y_hat # error in output\n",
        "        output_delta = output_error * sigmoid(y_hat, deriv=True)\n",
        "        return output_delta "
      ],
      "execution_count": 114,
      "outputs": []
    },
    {
      "cell_type": "code",
      "metadata": {
        "id": "agYAQeoPZKFW"
      },
      "source": [
        "def calculateGradient(W, y, y_hat, learningRate):\n",
        "    #y is the expected outcome(y_true)\n",
        "    #y_hat is the predicted outcome(y_pred)\n",
        "  \n",
        "    output_delta = (y - y_hat) * sigmoid(y_hat, deriv=True) #error \n",
        "    output_delta = np.sum(output_delta, axis=0)\n",
        "\n",
        "    temp = np.array(learningRate * output_delta)\n",
        "    W = W + temp\n",
        "    return W"
      ],
      "execution_count": 120,
      "outputs": []
    },
    {
      "cell_type": "code",
      "metadata": {
        "id": "96rrSNLvaYbN",
        "colab": {
          "base_uri": "https://localhost:8080/"
        },
        "outputId": "b7959b50-0d36-43d1-d480-887ca7334056"
      },
      "source": [
        "calculateGradient(weight_1,y_true_1,y_pred_1,learning_param) #updated weights"
      ],
      "execution_count": 119,
      "outputs": [
        {
          "output_type": "execute_result",
          "data": {
            "text/plain": [
              "array([[ 0.82734059,  0.64880602],\n",
              "       [-0.46750693,  0.05877998],\n",
              "       [ 0.98445385, -0.71702707]])"
            ]
          },
          "metadata": {},
          "execution_count": 119
        }
      ]
    },
    {
      "cell_type": "code",
      "metadata": {
        "id": "bU0ZGVNRc2um"
      },
      "source": [
        "for i in range(100): #trains the ANN 100 times\n",
        "    upd_weight_1 = calculateGradient(weight_1,y_true_1,y_pred_1,learning_param)\n",
        "    upd_weight_2 = calculateGradient(weight_2,y_true_1,y_pred_1,learning_param)"
      ],
      "execution_count": 124,
      "outputs": []
    },
    {
      "cell_type": "code",
      "metadata": {
        "id": "jYq-wxi9FmSw",
        "colab": {
          "base_uri": "https://localhost:8080/"
        },
        "outputId": "8736d515-e297-40e2-d7a4-ddab07f4baa3"
      },
      "source": [
        "print(\"Actual output: \" + str(y))"
      ],
      "execution_count": 93,
      "outputs": [
        {
          "output_type": "stream",
          "name": "stdout",
          "text": [
            "Actual output: [[0.28571429 0.21428571 0.85714286 1.         0.71428571 0.57142857]]\n"
          ]
        }
      ]
    },
    {
      "cell_type": "code",
      "metadata": {
        "id": "Gcf4L-j0dq52",
        "outputId": "f455d8b5-b987-4c9a-e043-7681b93e3251",
        "colab": {
          "base_uri": "https://localhost:8080/"
        }
      },
      "source": [
        "print(\"Weights for first layer: \\n\" + str(weight_1))"
      ],
      "execution_count": 102,
      "outputs": [
        {
          "output_type": "stream",
          "name": "stdout",
          "text": [
            "Weights for first layer: \n",
            "[[ 0.83715827  0.65862371]\n",
            " [-0.45768924  0.06859766]\n",
            " [ 0.99427154 -0.70720939]]\n"
          ]
        }
      ]
    },
    {
      "cell_type": "code",
      "metadata": {
        "id": "x382aPSD24Nq",
        "outputId": "afd5c0df-46a6-4594-90f3-6cfb8a9c603c",
        "colab": {
          "base_uri": "https://localhost:8080/"
        }
      },
      "source": [
        "print(\"Weights for second layer: \\n\" + str(weight_2))"
      ],
      "execution_count": 103,
      "outputs": [
        {
          "output_type": "stream",
          "name": "stdout",
          "text": [
            "Weights for second layer: \n",
            "[[ 0.98100663]\n",
            " [-0.29412575]]\n"
          ]
        }
      ]
    },
    {
      "cell_type": "code",
      "metadata": {
        "id": "7KmoCTyG2-Ao",
        "outputId": "aa39865b-4e69-4775-d952-268d19df53ff",
        "colab": {
          "base_uri": "https://localhost:8080/"
        }
      },
      "source": [
        "print(\"Updated weights for first layer: \\n\" + str(upd_weight_1))"
      ],
      "execution_count": 125,
      "outputs": [
        {
          "output_type": "stream",
          "name": "stdout",
          "text": [
            "Updated weights for first layer: \n",
            "[[ 0.82734059  0.64880602]\n",
            " [-0.46750693  0.05877998]\n",
            " [ 0.98445385 -0.71702707]]\n"
          ]
        }
      ]
    },
    {
      "cell_type": "code",
      "metadata": {
        "id": "alHMmhfF3A_N",
        "outputId": "42262377-8ddf-4d9e-dc92-9ee7e945e8d8",
        "colab": {
          "base_uri": "https://localhost:8080/"
        }
      },
      "source": [
        "print(\"Updated weights for second layer: \\n\" + str(upd_weight_2))"
      ],
      "execution_count": 126,
      "outputs": [
        {
          "output_type": "stream",
          "name": "stdout",
          "text": [
            "Updated weights for second layer: \n",
            "[[ 0.97118895]\n",
            " [-0.30394343]]\n"
          ]
        }
      ]
    }
  ]
}