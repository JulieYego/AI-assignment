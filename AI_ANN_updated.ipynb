{
  "nbformat": 4,
  "nbformat_minor": 0,
  "metadata": {
    "colab": {
      "name": "AI_ANN.ipynb",
      "provenance": [],
      "collapsed_sections": [],
      "authorship_tag": "ABX9TyP/g64/ems8YDJZJwBQb0Pp",
      "include_colab_link": true
    },
    "kernelspec": {
      "name": "python3",
      "display_name": "Python 3"
    },
    "language_info": {
      "name": "python"
    }
  },
  "cells": [
    {
      "cell_type": "markdown",
      "metadata": {
        "id": "view-in-github",
        "colab_type": "text"
      },
      "source": [
        "<a href=\"https://colab.research.google.com/github/JulieYego/AI-assignment/blob/main/AI_ANN_updated.ipynb\" target=\"_parent\"><img src=\"https://colab.research.google.com/assets/colab-badge.svg\" alt=\"Open In Colab\"/></a>"
      ]
    },
    {
      "cell_type": "code",
      "metadata": {
        "id": "kdyu7qXhrfo8"
      },
      "source": [
        "import pandas as pd #dataset library\n",
        "import numpy as np #linear algebra library"
      ],
      "execution_count": 26,
      "outputs": []
    },
    {
      "cell_type": "code",
      "metadata": {
        "id": "7PUXRoI9schv"
      },
      "source": [
        "from numpy import array #library for the matrices\n",
        "from sklearn.preprocessing import Normalizer #ML library\n",
        "from keras.activations import sigmoid #library for sigmoid function\n",
        "from keras.losses import mse #library for mean squared error\n",
        "from numpy.random import uniform,normal"
      ],
      "execution_count": 27,
      "outputs": []
    },
    {
      "cell_type": "markdown",
      "metadata": {
        "id": "RF1C8UFa7k0c"
      },
      "source": [
        "Hyperparameters"
      ]
    },
    {
      "cell_type": "code",
      "metadata": {
        "id": "8TtqvZ0e7kZ-"
      },
      "source": [
        "batch_size = 2\n",
        "learning_param = 0.07"
      ],
      "execution_count": 166,
      "outputs": []
    },
    {
      "cell_type": "markdown",
      "metadata": {
        "id": "dhkh0nU08sdq"
      },
      "source": [
        "Data Transformation"
      ]
    },
    {
      "cell_type": "code",
      "metadata": {
        "id": "04X_RNxjsnxF"
      },
      "source": [
        "data_dict = {'Day 1':[30,40,50,20,15,60],'Day 2':[40,50,20,15,60,70],\n",
        "           'Day 3':[50,20,15,60,70,50],'Target':[20,15,60,70,50,40]}"
      ],
      "execution_count": 29,
      "outputs": []
    },
    {
      "cell_type": "code",
      "metadata": {
        "id": "pmbCCBCBsiRe"
      },
      "source": [
        "data = pd.DataFrame(data_dict)"
      ],
      "execution_count": 30,
      "outputs": []
    },
    {
      "cell_type": "code",
      "metadata": {
        "colab": {
          "base_uri": "https://localhost:8080/",
          "height": 237
        },
        "id": "mZedii4LxVET",
        "outputId": "be1fa7c5-9755-44eb-cc3c-6a9bc78700be"
      },
      "source": [
        "data"
      ],
      "execution_count": 31,
      "outputs": [
        {
          "output_type": "execute_result",
          "data": {
            "text/html": [
              "<div>\n",
              "<style scoped>\n",
              "    .dataframe tbody tr th:only-of-type {\n",
              "        vertical-align: middle;\n",
              "    }\n",
              "\n",
              "    .dataframe tbody tr th {\n",
              "        vertical-align: top;\n",
              "    }\n",
              "\n",
              "    .dataframe thead th {\n",
              "        text-align: right;\n",
              "    }\n",
              "</style>\n",
              "<table border=\"1\" class=\"dataframe\">\n",
              "  <thead>\n",
              "    <tr style=\"text-align: right;\">\n",
              "      <th></th>\n",
              "      <th>Day 1</th>\n",
              "      <th>Day 2</th>\n",
              "      <th>Day 3</th>\n",
              "      <th>Target</th>\n",
              "    </tr>\n",
              "  </thead>\n",
              "  <tbody>\n",
              "    <tr>\n",
              "      <th>0</th>\n",
              "      <td>30</td>\n",
              "      <td>40</td>\n",
              "      <td>50</td>\n",
              "      <td>20</td>\n",
              "    </tr>\n",
              "    <tr>\n",
              "      <th>1</th>\n",
              "      <td>40</td>\n",
              "      <td>50</td>\n",
              "      <td>20</td>\n",
              "      <td>15</td>\n",
              "    </tr>\n",
              "    <tr>\n",
              "      <th>2</th>\n",
              "      <td>50</td>\n",
              "      <td>20</td>\n",
              "      <td>15</td>\n",
              "      <td>60</td>\n",
              "    </tr>\n",
              "    <tr>\n",
              "      <th>3</th>\n",
              "      <td>20</td>\n",
              "      <td>15</td>\n",
              "      <td>60</td>\n",
              "      <td>70</td>\n",
              "    </tr>\n",
              "    <tr>\n",
              "      <th>4</th>\n",
              "      <td>15</td>\n",
              "      <td>60</td>\n",
              "      <td>70</td>\n",
              "      <td>50</td>\n",
              "    </tr>\n",
              "    <tr>\n",
              "      <th>5</th>\n",
              "      <td>60</td>\n",
              "      <td>70</td>\n",
              "      <td>50</td>\n",
              "      <td>40</td>\n",
              "    </tr>\n",
              "  </tbody>\n",
              "</table>\n",
              "</div>"
            ],
            "text/plain": [
              "   Day 1  Day 2  Day 3  Target\n",
              "0     30     40     50      20\n",
              "1     40     50     20      15\n",
              "2     50     20     15      60\n",
              "3     20     15     60      70\n",
              "4     15     60     70      50\n",
              "5     60     70     50      40"
            ]
          },
          "metadata": {},
          "execution_count": 31
        }
      ]
    },
    {
      "cell_type": "code",
      "metadata": {
        "id": "xjPwOGLCy2k7"
      },
      "source": [
        "x = data.drop('Target',axis=1)\n",
        "y = data['Target']"
      ],
      "execution_count": 32,
      "outputs": []
    },
    {
      "cell_type": "code",
      "metadata": {
        "id": "2bhVn-VX0gHs"
      },
      "source": [
        "x_trans = Normalizer(norm='max').fit_transform(x)"
      ],
      "execution_count": 33,
      "outputs": []
    },
    {
      "cell_type": "code",
      "metadata": {
        "colab": {
          "base_uri": "https://localhost:8080/"
        },
        "id": "uL2u8EFE1QYY",
        "outputId": "be793844-b0fc-4efa-d56f-e46d400b9dc7"
      },
      "source": [
        "np.reshape(array(y),(1,-1))"
      ],
      "execution_count": 34,
      "outputs": [
        {
          "output_type": "execute_result",
          "data": {
            "text/plain": [
              "array([[20, 15, 60, 70, 50, 40]])"
            ]
          },
          "metadata": {},
          "execution_count": 34
        }
      ]
    },
    {
      "cell_type": "code",
      "metadata": {
        "id": "E3JNOxux1BKa"
      },
      "source": [
        "y = Normalizer(norm='max').fit_transform(np.reshape(array(y),(1,-1)))"
      ],
      "execution_count": 35,
      "outputs": []
    },
    {
      "cell_type": "code",
      "metadata": {
        "colab": {
          "base_uri": "https://localhost:8080/"
        },
        "id": "ui03lru81pxq",
        "outputId": "64f56fdc-ed45-4972-fce0-091c1dfab07d"
      },
      "source": [
        "y"
      ],
      "execution_count": 36,
      "outputs": [
        {
          "output_type": "execute_result",
          "data": {
            "text/plain": [
              "array([[0.28571429, 0.21428571, 0.85714286, 1.        , 0.71428571,\n",
              "        0.57142857]])"
            ]
          },
          "metadata": {},
          "execution_count": 36
        }
      ]
    },
    {
      "cell_type": "code",
      "metadata": {
        "colab": {
          "base_uri": "https://localhost:8080/"
        },
        "id": "miYp419hzCKN",
        "outputId": "5c77c43b-a9c1-44d5-f9d3-95b627e952a4"
      },
      "source": [
        "x_trans"
      ],
      "execution_count": 37,
      "outputs": [
        {
          "output_type": "execute_result",
          "data": {
            "text/plain": [
              "array([[0.6       , 0.8       , 1.        ],\n",
              "       [0.8       , 1.        , 0.4       ],\n",
              "       [1.        , 0.4       , 0.3       ],\n",
              "       [0.33333333, 0.25      , 1.        ],\n",
              "       [0.21428571, 0.85714286, 1.        ],\n",
              "       [0.85714286, 1.        , 0.71428571]])"
            ]
          },
          "metadata": {},
          "execution_count": 37
        }
      ]
    },
    {
      "cell_type": "code",
      "metadata": {
        "id": "FBy33aWt085Y"
      },
      "source": [
        ""
      ],
      "execution_count": 37,
      "outputs": []
    },
    {
      "cell_type": "code",
      "metadata": {
        "colab": {
          "base_uri": "https://localhost:8080/"
        },
        "id": "zHNc9ARSyPoq",
        "outputId": "4bb8a51a-acc5-4809-b594-b73fcfbb6fbb"
      },
      "source": [
        "Normalizer().fit_transform(data) #transform the dataset"
      ],
      "execution_count": 38,
      "outputs": [
        {
          "output_type": "execute_result",
          "data": {
            "text/plain": [
              "array([[0.40824829, 0.54433105, 0.68041382, 0.27216553],\n",
              "       [0.58191437, 0.72739297, 0.29095719, 0.21821789],\n",
              "       [0.60971076, 0.2438843 , 0.18291323, 0.73165291],\n",
              "       [0.20936957, 0.15702718, 0.62810871, 0.73279349],\n",
              "       [0.14157875, 0.56631501, 0.66070085, 0.47192918],\n",
              "       [0.53452248, 0.62360956, 0.4454354 , 0.35634832]])"
            ]
          },
          "metadata": {},
          "execution_count": 38
        }
      ]
    },
    {
      "cell_type": "markdown",
      "metadata": {
        "id": "g5RG7tEV4rHF"
      },
      "source": [
        "ANN Model from Scratch"
      ]
    },
    {
      "cell_type": "code",
      "metadata": {
        "colab": {
          "base_uri": "https://localhost:8080/",
          "height": 35
        },
        "id": "sXN500Yh5AAO",
        "outputId": "9fff5359-0578-4858-d531-4cf783afa648"
      },
      "source": [
        "'''weight_1=array([[.2,.1],[.3,.1],[.2,.1]])\n",
        "weight_2=array([[.5],[.1]])'''"
      ],
      "execution_count": 39,
      "outputs": [
        {
          "output_type": "execute_result",
          "data": {
            "application/vnd.google.colaboratory.intrinsic+json": {
              "type": "string"
            },
            "text/plain": [
              "'weight_1=array([[.2,.1],[.3,.1],[.2,.1]])\\nweight_2=array([[.5],[.1]])'"
            ]
          },
          "metadata": {},
          "execution_count": 39
        }
      ]
    },
    {
      "cell_type": "code",
      "metadata": {
        "id": "yU4XQa19_S2P"
      },
      "source": [
        "weight_1 = uniform(-1,1,(3,2)) #shape of 3 by 2\n",
        "weight_2 = uniform(-1,1,(2,1)) #shape of 2 by 1"
      ],
      "execution_count": 40,
      "outputs": []
    },
    {
      "cell_type": "code",
      "metadata": {
        "id": "vh3stVfVcH9M",
        "outputId": "6ab2b739-c7dd-4f51-a3d6-95a6c1b5dfc4",
        "colab": {
          "base_uri": "https://localhost:8080/"
        }
      },
      "source": [
        "weight_2"
      ],
      "execution_count": 160,
      "outputs": [
        {
          "output_type": "execute_result",
          "data": {
            "text/plain": [
              "array([[-0.23439148],\n",
              "       [ 0.15455852]])"
            ]
          },
          "metadata": {},
          "execution_count": 160
        }
      ]
    },
    {
      "cell_type": "code",
      "metadata": {
        "id": "JbUnP6qD5Z5b"
      },
      "source": [
        "x=x_trans"
      ],
      "execution_count": 41,
      "outputs": []
    },
    {
      "cell_type": "code",
      "metadata": {
        "id": "ShjAhjBs7yLn"
      },
      "source": [
        "batch_1 = x[0:batch_size]"
      ],
      "execution_count": 53,
      "outputs": []
    },
    {
      "cell_type": "code",
      "metadata": {
        "id": "T4HfzY1kvZHI",
        "outputId": "a012fe72-800b-4aeb-d53b-2d28d1f6921d",
        "colab": {
          "base_uri": "https://localhost:8080/"
        }
      },
      "source": [
        "batch_1"
      ],
      "execution_count": 109,
      "outputs": [
        {
          "output_type": "execute_result",
          "data": {
            "text/plain": [
              "array([[0.6, 0.8, 1. ],\n",
              "       [0.8, 1. , 0.4]])"
            ]
          },
          "metadata": {},
          "execution_count": 109
        }
      ]
    },
    {
      "cell_type": "code",
      "metadata": {
        "id": "iIJk3UJlvcW2"
      },
      "source": [
        "batch_2 = x[batch_size:4]"
      ],
      "execution_count": 55,
      "outputs": []
    },
    {
      "cell_type": "code",
      "metadata": {
        "id": "15ZG0jPzvizz",
        "outputId": "9c62d46b-2f5d-413b-f74f-9ab7295f5eb9",
        "colab": {
          "base_uri": "https://localhost:8080/"
        }
      },
      "source": [
        "batch_2"
      ],
      "execution_count": 56,
      "outputs": [
        {
          "output_type": "execute_result",
          "data": {
            "text/plain": [
              "array([[1.        , 0.4       , 0.3       ],\n",
              "       [0.33333333, 0.25      , 1.        ]])"
            ]
          },
          "metadata": {},
          "execution_count": 56
        }
      ]
    },
    {
      "cell_type": "code",
      "metadata": {
        "id": "tkTkWULpvpIA"
      },
      "source": [
        "batch_3 = x[4:6]"
      ],
      "execution_count": 57,
      "outputs": []
    },
    {
      "cell_type": "code",
      "metadata": {
        "id": "xvnhf8jYvtMY",
        "outputId": "598ba584-19fb-42cc-a0bb-d06a8107896c",
        "colab": {
          "base_uri": "https://localhost:8080/"
        }
      },
      "source": [
        "batch_3"
      ],
      "execution_count": 58,
      "outputs": [
        {
          "output_type": "execute_result",
          "data": {
            "text/plain": [
              "array([[0.21428571, 0.85714286, 1.        ],\n",
              "       [0.85714286, 1.        , 0.71428571]])"
            ]
          },
          "metadata": {},
          "execution_count": 58
        }
      ]
    },
    {
      "cell_type": "code",
      "metadata": {
        "id": "OY7WRbIj8Ag0"
      },
      "source": [
        "#output_1 = x[0]@weight_1\n",
        "#output_1"
      ],
      "execution_count": 118,
      "outputs": []
    },
    {
      "cell_type": "markdown",
      "metadata": {
        "id": "U1JRYyQ8zofR"
      },
      "source": [
        "Sumation of the product of inputs and their weights for each batch"
      ]
    },
    {
      "cell_type": "markdown",
      "metadata": {
        "id": "fxItbr-UzyKL"
      },
      "source": [
        "Batch 1"
      ]
    },
    {
      "cell_type": "code",
      "metadata": {
        "colab": {
          "base_uri": "https://localhost:8080/"
        },
        "id": "E904jReF5f0O",
        "outputId": "d62cd716-6893-46e3-e0bc-381762562302"
      },
      "source": [
        "output_1 = batch_1@weight_1\n",
        "output_1"
      ],
      "execution_count": 59,
      "outputs": [
        {
          "output_type": "execute_result",
          "data": {
            "text/plain": [
              "array([[0.89908346, 0.60945003],\n",
              "       [0.92699337, 0.16647356]])"
            ]
          },
          "metadata": {},
          "execution_count": 59
        }
      ]
    },
    {
      "cell_type": "markdown",
      "metadata": {
        "id": "yB2Wx0I8zz5O"
      },
      "source": [
        "Batch 2"
      ]
    },
    {
      "cell_type": "code",
      "metadata": {
        "id": "tWkIQZ3cv2qR",
        "outputId": "593bde20-5d35-40c3-a2d3-af80efaa3088",
        "colab": {
          "base_uri": "https://localhost:8080/"
        }
      },
      "source": [
        "output_2 = batch_2@weight_1\n",
        "output_2"
      ],
      "execution_count": 60,
      "outputs": [
        {
          "output_type": "execute_result",
          "data": {
            "text/plain": [
              "array([[ 0.42505122, -0.0949539 ],\n",
              "       [ 0.44609769,  0.60171543]])"
            ]
          },
          "metadata": {},
          "execution_count": 60
        }
      ]
    },
    {
      "cell_type": "markdown",
      "metadata": {
        "id": "L89Te2TIz1cu"
      },
      "source": [
        "Batch 3"
      ]
    },
    {
      "cell_type": "code",
      "metadata": {
        "id": "RpENrD2twEdb",
        "outputId": "1c69f853-ff1e-4342-cc83-8595c8cad633",
        "colab": {
          "base_uri": "https://localhost:8080/"
        }
      },
      "source": [
        "output_3 = batch_3@weight_1\n",
        "output_3"
      ],
      "execution_count": 61,
      "outputs": [
        {
          "output_type": "execute_result",
          "data": {
            "text/plain": [
              "array([[0.9330339 , 0.7661937 ],\n",
              "       [1.00218116, 0.35807152]])"
            ]
          },
          "metadata": {},
          "execution_count": 61
        }
      ]
    },
    {
      "cell_type": "markdown",
      "metadata": {
        "id": "pZzMyJBsz3As"
      },
      "source": [
        "Activation Function"
      ]
    },
    {
      "cell_type": "markdown",
      "metadata": {
        "id": "cjKHQcjgz8b9"
      },
      "source": [
        "Batch 1"
      ]
    },
    {
      "cell_type": "code",
      "metadata": {
        "colab": {
          "base_uri": "https://localhost:8080/"
        },
        "id": "_lG0GqL26bCV",
        "outputId": "b9b181b5-4583-47d6-9d49-7c20476a643c"
      },
      "source": [
        "act_output_1 = sigmoid(output_1).numpy()\n",
        "act_output_1"
      ],
      "execution_count": 45,
      "outputs": [
        {
          "output_type": "execute_result",
          "data": {
            "text/plain": [
              "array([[0.71076112, 0.64781534],\n",
              "       [0.71646491, 0.54152254]])"
            ]
          },
          "metadata": {},
          "execution_count": 45
        }
      ]
    },
    {
      "cell_type": "markdown",
      "metadata": {
        "id": "Vdzqd9X4z-KA"
      },
      "source": [
        "Batch 2"
      ]
    },
    {
      "cell_type": "code",
      "metadata": {
        "id": "uaZ4AEs9wKUw",
        "outputId": "8db007af-1727-4bbd-dd3c-89c49b64f1c0",
        "colab": {
          "base_uri": "https://localhost:8080/"
        }
      },
      "source": [
        "act_output_2 = sigmoid(output_2).numpy()\n",
        "act_output_2"
      ],
      "execution_count": 62,
      "outputs": [
        {
          "output_type": "execute_result",
          "data": {
            "text/plain": [
              "array([[0.60469133, 0.47627934],\n",
              "       [0.60971103, 0.64604867]])"
            ]
          },
          "metadata": {},
          "execution_count": 62
        }
      ]
    },
    {
      "cell_type": "markdown",
      "metadata": {
        "id": "bmi_jO450K0i"
      },
      "source": [
        "Batch 3"
      ]
    },
    {
      "cell_type": "code",
      "metadata": {
        "id": "w-_A3U4mwOzC",
        "outputId": "9381f130-6ba6-4c9a-a705-e534a22e9415",
        "colab": {
          "base_uri": "https://localhost:8080/"
        }
      },
      "source": [
        "act_output_3 = sigmoid(output_3).numpy()\n",
        "act_output_3"
      ],
      "execution_count": 63,
      "outputs": [
        {
          "output_type": "execute_result",
          "data": {
            "text/plain": [
              "array([[0.71769039, 0.68269694],\n",
              "       [0.73148721, 0.58857352]])"
            ]
          },
          "metadata": {},
          "execution_count": 63
        }
      ]
    },
    {
      "cell_type": "markdown",
      "metadata": {
        "id": "FPEXYUy10QEr"
      },
      "source": [
        "Outputs multiplied by the hidden matrix and the predicted outcome and true outcome"
      ]
    },
    {
      "cell_type": "markdown",
      "metadata": {
        "id": "ztsdjkWN0cg7"
      },
      "source": [
        "Batch 1"
      ]
    },
    {
      "cell_type": "code",
      "metadata": {
        "colab": {
          "base_uri": "https://localhost:8080/"
        },
        "id": "NpyD_4CS6m70",
        "outputId": "f268994c-49d8-4860-87f5-e97134d51dad"
      },
      "source": [
        "final_output_1 = act_output_1@weight_2\n",
        "final_output_1"
      ],
      "execution_count": 64,
      "outputs": [
        {
          "output_type": "execute_result",
          "data": {
            "text/plain": [
              "array([[-0.06647097],\n",
              "       [-0.08423635]])"
            ]
          },
          "metadata": {},
          "execution_count": 64
        }
      ]
    },
    {
      "cell_type": "code",
      "metadata": {
        "id": "JrRp6i9b9Y3p"
      },
      "source": [
        "y_true_1 = y[0][0:batch_size]\n",
        "y_pred_1 = final_output.T[0]"
      ],
      "execution_count": 75,
      "outputs": []
    },
    {
      "cell_type": "code",
      "metadata": {
        "colab": {
          "base_uri": "https://localhost:8080/"
        },
        "id": "XqZmBzYt9lET",
        "outputId": "1fad0da6-43f0-4a4c-ec3e-946d81c71c14"
      },
      "source": [
        "y_true_1"
      ],
      "execution_count": 76,
      "outputs": [
        {
          "output_type": "execute_result",
          "data": {
            "text/plain": [
              "array([0.28571429, 0.21428571])"
            ]
          },
          "metadata": {},
          "execution_count": 76
        }
      ]
    },
    {
      "cell_type": "code",
      "metadata": {
        "colab": {
          "base_uri": "https://localhost:8080/"
        },
        "id": "Ukt-Xk7_9oNk",
        "outputId": "baa62dee-a03b-4b06-af1c-65166a36ca6d"
      },
      "source": [
        "y_pred_1.T"
      ],
      "execution_count": 77,
      "outputs": [
        {
          "output_type": "execute_result",
          "data": {
            "text/plain": [
              "array([-0.06647097, -0.08423635])"
            ]
          },
          "metadata": {},
          "execution_count": 77
        }
      ]
    },
    {
      "cell_type": "markdown",
      "metadata": {
        "id": "-1c1H1OM0mjT"
      },
      "source": [
        "Batch 2"
      ]
    },
    {
      "cell_type": "code",
      "metadata": {
        "id": "MYjIX7HXwkuP",
        "outputId": "f96c59ad-f989-442c-e135-a45e4ba66daf",
        "colab": {
          "base_uri": "https://localhost:8080/"
        }
      },
      "source": [
        "final_output_2 = act_output_2@weight_2\n",
        "final_output_2"
      ],
      "execution_count": 65,
      "outputs": [
        {
          "output_type": "execute_result",
          "data": {
            "text/plain": [
              "array([[-0.06812147],\n",
              "       [-0.04305875]])"
            ]
          },
          "metadata": {},
          "execution_count": 65
        }
      ]
    },
    {
      "cell_type": "code",
      "metadata": {
        "id": "u6MMdPLLw-BV"
      },
      "source": [
        "y_true_2 = y[0][batch_size:4]\n",
        "y_pred_2 = final_output_2.T[0]"
      ],
      "execution_count": 78,
      "outputs": []
    },
    {
      "cell_type": "code",
      "metadata": {
        "id": "UqZ-TIPfxEuG",
        "outputId": "a210f6a0-a98c-4080-976a-3d8e3c669eda",
        "colab": {
          "base_uri": "https://localhost:8080/"
        }
      },
      "source": [
        "y_true_2"
      ],
      "execution_count": 79,
      "outputs": [
        {
          "output_type": "execute_result",
          "data": {
            "text/plain": [
              "array([0.85714286, 1.        ])"
            ]
          },
          "metadata": {},
          "execution_count": 79
        }
      ]
    },
    {
      "cell_type": "code",
      "metadata": {
        "id": "2pt-bXdTxPVr",
        "outputId": "3805a2ff-4225-41bf-d621-8f04c28bbf66",
        "colab": {
          "base_uri": "https://localhost:8080/"
        }
      },
      "source": [
        "y_pred_2"
      ],
      "execution_count": 80,
      "outputs": [
        {
          "output_type": "execute_result",
          "data": {
            "text/plain": [
              "array([-0.06812147, -0.04305875])"
            ]
          },
          "metadata": {},
          "execution_count": 80
        }
      ]
    },
    {
      "cell_type": "markdown",
      "metadata": {
        "id": "DUcz8_D80oI4"
      },
      "source": [
        "Batch 3"
      ]
    },
    {
      "cell_type": "code",
      "metadata": {
        "id": "C7gEAdkewrrO",
        "outputId": "69078ca0-60b5-4d7e-8a53-b461cdbcf878",
        "colab": {
          "base_uri": "https://localhost:8080/"
        }
      },
      "source": [
        "final_output_3 = act_output_3@weight_2\n",
        "final_output_3"
      ],
      "execution_count": 66,
      "outputs": [
        {
          "output_type": "execute_result",
          "data": {
            "text/plain": [
              "array([[-0.06270389],\n",
              "       [-0.08048532]])"
            ]
          },
          "metadata": {},
          "execution_count": 66
        }
      ]
    },
    {
      "cell_type": "code",
      "metadata": {
        "id": "hVs6O49TyII4"
      },
      "source": [
        "y_true_3 = y[0][4:6]\n",
        "y_pred_3 = final_output_3.T[0]"
      ],
      "execution_count": 81,
      "outputs": []
    },
    {
      "cell_type": "code",
      "metadata": {
        "id": "N62PlnKxyNCA",
        "outputId": "16bc40af-e530-4d60-cce3-ca10cc6653db",
        "colab": {
          "base_uri": "https://localhost:8080/"
        }
      },
      "source": [
        "y_true_3"
      ],
      "execution_count": 82,
      "outputs": [
        {
          "output_type": "execute_result",
          "data": {
            "text/plain": [
              "array([0.71428571, 0.57142857])"
            ]
          },
          "metadata": {},
          "execution_count": 82
        }
      ]
    },
    {
      "cell_type": "code",
      "metadata": {
        "id": "XGGoDffByTa4",
        "outputId": "0aaa52f6-47e8-4e79-ef05-a4eb333d9cab",
        "colab": {
          "base_uri": "https://localhost:8080/"
        }
      },
      "source": [
        "y_pred_3"
      ],
      "execution_count": 83,
      "outputs": [
        {
          "output_type": "execute_result",
          "data": {
            "text/plain": [
              "array([-0.06270389, -0.08048532])"
            ]
          },
          "metadata": {},
          "execution_count": 83
        }
      ]
    },
    {
      "cell_type": "markdown",
      "metadata": {
        "id": "h3oX-mwj8x_e"
      },
      "source": [
        "Computing Mean Squared Error"
      ]
    },
    {
      "cell_type": "code",
      "metadata": {
        "colab": {
          "base_uri": "https://localhost:8080/"
        },
        "id": "dxVsqIrx81E9",
        "outputId": "35ed0c99-ba53-46d4-efeb-1dc7ead7e6a1"
      },
      "source": [
        "mse(y_true_1,y_pred_1).numpy() #error for batch 1"
      ],
      "execution_count": 84,
      "outputs": [
        {
          "output_type": "execute_result",
          "data": {
            "text/plain": [
              "0.10657494024377544"
            ]
          },
          "metadata": {},
          "execution_count": 84
        }
      ]
    },
    {
      "cell_type": "code",
      "metadata": {
        "id": "vmwTCDvzyYXM",
        "outputId": "65464597-308a-440b-8b95-67a169c145e0",
        "colab": {
          "base_uri": "https://localhost:8080/"
        }
      },
      "source": [
        "mse(y_true_2,y_pred_2).numpy() #error for batch 2"
      ],
      "execution_count": 85,
      "outputs": [
        {
          "output_type": "execute_result",
          "data": {
            "text/plain": [
              "0.9720428094683073"
            ]
          },
          "metadata": {},
          "execution_count": 85
        }
      ]
    },
    {
      "cell_type": "code",
      "metadata": {
        "id": "2KJ7WMOKzJp-",
        "outputId": "65674609-ee9c-4b54-9e36-43f4a33756eb",
        "colab": {
          "base_uri": "https://localhost:8080/"
        }
      },
      "source": [
        "mse(y_true_3,y_pred_3).numpy() #error for batch 3"
      ],
      "execution_count": 86,
      "outputs": [
        {
          "output_type": "execute_result",
          "data": {
            "text/plain": [
              "0.5143522817636723"
            ]
          },
          "metadata": {},
          "execution_count": 86
        }
      ]
    },
    {
      "cell_type": "markdown",
      "metadata": {
        "id": "vsZ8OmAkzTLd"
      },
      "source": [
        "Updating the weights using delta rules of error computation"
      ]
    },
    {
      "cell_type": "code",
      "metadata": {
        "id": "EgcG1SPDzb-u"
      },
      "source": [
        "#calculate the first order derivative of the sigmoid function \n",
        "def sigmoid(s, deriv=False):\n",
        "        if (deriv == True):\n",
        "            return s * (1 - s)\n",
        "        return 1/(1 + np.exp(-s))"
      ],
      "execution_count": 112,
      "outputs": []
    },
    {
      "cell_type": "code",
      "metadata": {
        "id": "Og4bka-LJeTv"
      },
      "source": [
        "def back(y, y_hat):\n",
        "        #error through the network\n",
        "        #z is the \n",
        "        #y is the expected outcome(y_true)\n",
        "        output_error = y - y_hat # error in output\n",
        "        output_delta = output_error * sigmoid(y_hat, deriv=True)\n",
        "        return output_delta\n",
        "        \n",
        "       "
      ],
      "execution_count": 149,
      "outputs": []
    },
    {
      "cell_type": "code",
      "metadata": {
        "id": "agYAQeoPZKFW"
      },
      "source": [
        "def calculateGradient(W, y, y_hat, learningRate):\n",
        "    #y is the expected outcome(y_true)\n",
        "    #y_hat is the predicted outcome(y_pred)\n",
        "  \n",
        "    output_delta = (y - y_hat) * sigmoid(y_hat, deriv=True) #gradient\n",
        "    output_delta = np.sum(output_delta, axis=0)\n",
        "    temp = np.array(learningRate * output_delta)\n",
        "    W = W + temp\n",
        "    return output_delta,W"
      ],
      "execution_count": 164,
      "outputs": []
    },
    {
      "cell_type": "code",
      "metadata": {
        "id": "96rrSNLvaYbN",
        "outputId": "e89d1dd8-b4e3-43bf-e865-5c4d5cd47b36",
        "colab": {
          "base_uri": "https://localhost:8080/"
        }
      },
      "source": [
        "calculateGradient(weight_2,y_true_1,y_pred_1,learning_param)"
      ],
      "execution_count": 167,
      "outputs": [
        {
          "output_type": "execute_result",
          "data": {
            "text/plain": [
              "(-0.05223084035642357, array([[-0.23804764],\n",
              "        [ 0.15090236]]))"
            ]
          },
          "metadata": {},
          "execution_count": 167
        }
      ]
    },
    {
      "cell_type": "code",
      "metadata": {
        "id": "bU0ZGVNRc2um"
      },
      "source": [
        "for i in range(100): #trains the ANN 100 times\n",
        "    calculateGradient(weight_2,y_true_1,y_pred_1,learning_param)"
      ],
      "execution_count": 169,
      "outputs": []
    },
    {
      "cell_type": "code",
      "metadata": {
        "id": "jYq-wxi9FmSw",
        "outputId": "e51d6887-6bac-400b-8a20-aabfe13e5e17",
        "colab": {
          "base_uri": "https://localhost:8080/"
        }
      },
      "source": [
        "print(\"Actual output: \" + str(y))"
      ],
      "execution_count": 171,
      "outputs": [
        {
          "output_type": "stream",
          "name": "stdout",
          "text": [
            "Actual output: [[0.28571429 0.21428571 0.85714286 1.         0.71428571 0.57142857]]\n"
          ]
        }
      ]
    },
    {
      "cell_type": "code",
      "metadata": {
        "id": "Gcf4L-j0dq52"
      },
      "source": [
        "print(\"Predicted output: \" + str(X))"
      ],
      "execution_count": null,
      "outputs": []
    }
  ]
}