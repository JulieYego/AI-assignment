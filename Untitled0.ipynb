{
  "nbformat": 4,
  "nbformat_minor": 0,
  "metadata": {
    "colab": {
      "name": "Untitled0.ipynb",
      "provenance": [],
      "authorship_tag": "ABX9TyMAtHOKK5UlC6I28kZvdrzu",
      "include_colab_link": true
    },
    "kernelspec": {
      "name": "python3",
      "display_name": "Python 3"
    },
    "language_info": {
      "name": "python"
    }
  },
  "cells": [
    {
      "cell_type": "markdown",
      "metadata": {
        "id": "view-in-github",
        "colab_type": "text"
      },
      "source": [
        "<a href=\"https://colab.research.google.com/github/JulieYego/AI-assignment/blob/main/Untitled0.ipynb\" target=\"_parent\"><img src=\"https://colab.research.google.com/assets/colab-badge.svg\" alt=\"Open In Colab\"/></a>"
      ]
    },
    {
      "cell_type": "code",
      "metadata": {
        "id": "uehsljZjOLdf"
      },
      "source": [
        "import pandas as pd\n",
        "import numpy as np\n",
        "\n",
        "from numpy import array\n",
        "from sklearn.preprocessing import Normalizer\n",
        "from keras.activations import sigmoid\n",
        "from keras.losses import mse\n",
        "from numpy.random import uniform,normal\n",
        "\n",
        "batch_size=2\n",
        "\n",
        "\n",
        "\n",
        "data_dict={'Day 1':[30,40,50,20,15,60],'Day 2':[40,50,20,15,60,70],\n",
        "           'Day 3':[50,20,15,60,70,50],'Target':[20,15,60,70,50,40]}\n",
        "\n",
        "data = pd.DataFrame(data_dict)\n",
        "\n",
        "data\n",
        "\n",
        "X = data.drop('Target',axis=1)\n",
        "Y = data['Target']\n",
        "\n",
        "X_trans = Normalizer().fit_transform(X)\n"
      ],
      "execution_count": 36,
      "outputs": []
    },
    {
      "cell_type": "code",
      "metadata": {
        "colab": {
          "base_uri": "https://localhost:8080/"
        },
        "id": "GB1fu5zYSOO-",
        "outputId": "b7e2f504-ea2f-4d3a-f0c0-f3dd013c88f3"
      },
      "source": [
        "np.reshape(array(Y),(1,-1))\n",
        "\n"
      ],
      "execution_count": 8,
      "outputs": [
        {
          "output_type": "execute_result",
          "data": {
            "text/plain": [
              "array([[20, 15, 60, 70, 50, 40]])"
            ]
          },
          "metadata": {},
          "execution_count": 8
        }
      ]
    },
    {
      "cell_type": "code",
      "metadata": {
        "colab": {
          "base_uri": "https://localhost:8080/"
        },
        "id": "1WbJWLSnS1Vz",
        "outputId": "373ff4b6-958d-4b50-a4a2-e2b8c07284a4"
      },
      "source": [
        "Y = Normalizer().fit_transform(np.reshape(array(Y),(1,-1)))\n",
        "\n",
        "Y"
      ],
      "execution_count": 33,
      "outputs": [
        {
          "output_type": "execute_result",
          "data": {
            "text/plain": [
              "array([[0.17391304, 0.13043478, 0.52173913, 0.60869565, 0.43478261,\n",
              "        0.34782609]])"
            ]
          },
          "metadata": {},
          "execution_count": 33
        }
      ]
    },
    {
      "cell_type": "code",
      "metadata": {
        "colab": {
          "base_uri": "https://localhost:8080/"
        },
        "id": "_XQ2pkdkRyuW",
        "outputId": "1ca79462-8149-48b8-f952-f0c1f180e16f"
      },
      "source": [
        "X_trans"
      ],
      "execution_count": 10,
      "outputs": [
        {
          "output_type": "execute_result",
          "data": {
            "text/plain": [
              "array([[0.42426407, 0.56568542, 0.70710678],\n",
              "       [0.59628479, 0.74535599, 0.2981424 ],\n",
              "       [0.89442719, 0.35777088, 0.26832816],\n",
              "       [0.30769231, 0.23076923, 0.92307692],\n",
              "       [0.16058632, 0.64234527, 0.74940282],\n",
              "       [0.57207755, 0.66742381, 0.47673129]])"
            ]
          },
          "metadata": {},
          "execution_count": 10
        }
      ]
    },
    {
      "cell_type": "code",
      "metadata": {
        "id": "o_7gtS6UU1KO"
      },
      "source": [
        ""
      ],
      "execution_count": null,
      "outputs": []
    },
    {
      "cell_type": "markdown",
      "metadata": {
        "id": "PJaf7dt5U2yu"
      },
      "source": [
        "ANN Model from scratch\n"
      ]
    },
    {
      "cell_type": "code",
      "metadata": {
        "colab": {
          "base_uri": "https://localhost:8080/"
        },
        "id": "ZEfAnwxzU69w",
        "outputId": "bd49eb35-5cca-48b6-a43e-2f518606995e"
      },
      "source": [
        "weight_1 = array([[.2,.1],[.3,.1],[.2,.1]])\n",
        "weight_2 = array([[.5],[.1]])\n",
        "\n",
        "weight_1\n",
        "\n",
        "\n"
      ],
      "execution_count": 22,
      "outputs": [
        {
          "output_type": "execute_result",
          "data": {
            "text/plain": [
              "array([[0.2, 0.1],\n",
              "       [0.3, 0.1],\n",
              "       [0.2, 0.1]])"
            ]
          },
          "metadata": {},
          "execution_count": 22
        }
      ]
    },
    {
      "cell_type": "code",
      "metadata": {
        "colab": {
          "base_uri": "https://localhost:8080/"
        },
        "id": "oUBzbAeJV03n",
        "outputId": "2bdc9ffa-ed00-48a5-8471-a42b6c8479de"
      },
      "source": [
        "X = X_trans\n",
        "X\n"
      ],
      "execution_count": 18,
      "outputs": [
        {
          "output_type": "execute_result",
          "data": {
            "text/plain": [
              "array([[0.42426407, 0.56568542, 0.70710678],\n",
              "       [0.59628479, 0.74535599, 0.2981424 ],\n",
              "       [0.89442719, 0.35777088, 0.26832816],\n",
              "       [0.30769231, 0.23076923, 0.92307692],\n",
              "       [0.16058632, 0.64234527, 0.74940282],\n",
              "       [0.57207755, 0.66742381, 0.47673129]])"
            ]
          },
          "metadata": {},
          "execution_count": 18
        }
      ]
    },
    {
      "cell_type": "code",
      "metadata": {
        "id": "nbOItwXHWcL9"
      },
      "source": [
        "'''weight_1 = array([[.2,.1],[.3,.1],[.2,.1]])\n",
        "weight_2 = array([[.5],[.1]])'''\n",
        "\n",
        "\n",
        "\n",
        "weight_1=\n",
        "\n",
        "X = X_trans\n",
        "\n",
        "X[0]\n",
        "\n",
        "output_1=X[0]@weight_1\n",
        "output_1\n",
        "\n"
      ],
      "execution_count": null,
      "outputs": []
    },
    {
      "cell_type": "code",
      "metadata": {
        "colab": {
          "base_uri": "https://localhost:8080/"
        },
        "id": "gTdSSDQheLUC",
        "outputId": "6afd3e0e-0b92-4c94-e7cf-cf910bf2c4b4"
      },
      "source": [
        "uniform(10,20,(3,2))"
      ],
      "execution_count": 41,
      "outputs": [
        {
          "output_type": "execute_result",
          "data": {
            "text/plain": [
              "array([[12.08515619, 18.89788593],\n",
              "       [18.89086764, 11.68907678],\n",
              "       [19.28328224, 11.48020578]])"
            ]
          },
          "metadata": {},
          "execution_count": 41
        }
      ]
    },
    {
      "cell_type": "code",
      "metadata": {
        "colab": {
          "base_uri": "https://localhost:8080/"
        },
        "id": "Kmfqw4wyXhp4",
        "outputId": "f9df802e-258c-4da2-e41a-74481446adc2"
      },
      "source": [
        "act_output_1=sigmoid(output_1).numpy()\n",
        "act_output_1"
      ],
      "execution_count": 27,
      "outputs": [
        {
          "output_type": "execute_result",
          "data": {
            "text/plain": [
              "array([0.59772138, 0.54232488])"
            ]
          },
          "metadata": {},
          "execution_count": 27
        }
      ]
    },
    {
      "cell_type": "code",
      "metadata": {
        "colab": {
          "base_uri": "https://localhost:8080/"
        },
        "id": "39BgRczHWvj1",
        "outputId": "209d857d-180d-45fb-81aa-54c448d5a4c0"
      },
      "source": [
        "final_output=act_output_1@weight_2\n",
        "final_output\n",
        "\n",
        "y_true=Y[0][0:batch_size]\n",
        "y_pred=final_output\n",
        "\n",
        "y_true\n",
        "\n",
        "y_pred"
      ],
      "execution_count": 34,
      "outputs": [
        {
          "output_type": "execute_result",
          "data": {
            "text/plain": [
              "array([0.35309318])"
            ]
          },
          "metadata": {},
          "execution_count": 34
        }
      ]
    },
    {
      "cell_type": "markdown",
      "metadata": {
        "id": "nifB8BPsbpJa"
      },
      "source": [
        "Computing mean squared error"
      ]
    },
    {
      "cell_type": "code",
      "metadata": {
        "colab": {
          "base_uri": "https://localhost:8080/"
        },
        "id": "4QD7Qa7Xb1dn",
        "outputId": "ac6d959e-43ee-43d7-c3a6-68d18cc445d0"
      },
      "source": [
        "mse(y_true,y_pred).numpy()"
      ],
      "execution_count": 35,
      "outputs": [
        {
          "output_type": "execute_result",
          "data": {
            "text/plain": [
              "0.04084114089660677"
            ]
          },
          "metadata": {},
          "execution_count": 35
        }
      ]
    }
  ]
}