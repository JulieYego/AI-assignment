{
  "nbformat": 4,
  "nbformat_minor": 0,
  "metadata": {
    "colab": {
      "name": "AI_ANN.ipynb",
      "provenance": [],
      "collapsed_sections": [],
      "authorship_tag": "ABX9TyPSisMEgy/9n5TWbTeoqSJ6",
      "include_colab_link": true
    },
    "kernelspec": {
      "name": "python3",
      "display_name": "Python 3"
    },
    "language_info": {
      "name": "python"
    }
  },
  "cells": [
    {
      "cell_type": "markdown",
      "metadata": {
        "id": "view-in-github",
        "colab_type": "text"
      },
      "source": [
        "<a href=\"https://colab.research.google.com/github/JulieYego/AI-assignment/blob/main/AI_ANN_updated1.ipynb\" target=\"_parent\"><img src=\"https://colab.research.google.com/assets/colab-badge.svg\" alt=\"Open In Colab\"/></a>"
      ]
    },
    {
      "cell_type": "code",
      "metadata": {
        "id": "kdyu7qXhrfo8"
      },
      "source": [
        "import pandas as pd #dataset library\n",
        "import numpy as np #linear algebra library"
      ],
      "execution_count": 145,
      "outputs": []
    },
    {
      "cell_type": "code",
      "metadata": {
        "id": "7PUXRoI9schv"
      },
      "source": [
        "from numpy import array #library for the matrices\n",
        "from sklearn.preprocessing import Normalizer #ML library\n",
        "from keras.activations import sigmoid #library for sigmoid function\n",
        "from keras.losses import mse #library for mean squared error\n",
        "from numpy.random import uniform,normal #library for generating random numbers"
      ],
      "execution_count": 146,
      "outputs": []
    },
    {
      "cell_type": "markdown",
      "metadata": {
        "id": "RF1C8UFa7k0c"
      },
      "source": [
        "Hyperparameters"
      ]
    },
    {
      "cell_type": "code",
      "metadata": {
        "id": "8TtqvZ0e7kZ-"
      },
      "source": [
        "batch_size = 2\n",
        "learning_param = 0.07"
      ],
      "execution_count": 147,
      "outputs": []
    },
    {
      "cell_type": "markdown",
      "metadata": {
        "id": "dhkh0nU08sdq"
      },
      "source": [
        "Data Transformation"
      ]
    },
    {
      "cell_type": "code",
      "metadata": {
        "id": "04X_RNxjsnxF"
      },
      "source": [
        "data_dict = {'Day 1':[30,40,50,20,15,60],'Day 2':[40,50,20,15,60,70],\n",
        "           'Day 3':[50,20,15,60,70,50],'Target':[20,15,60,70,50,40]}"
      ],
      "execution_count": 148,
      "outputs": []
    },
    {
      "cell_type": "code",
      "metadata": {
        "id": "pmbCCBCBsiRe"
      },
      "source": [
        "data = pd.DataFrame(data_dict)"
      ],
      "execution_count": 149,
      "outputs": []
    },
    {
      "cell_type": "code",
      "metadata": {
        "colab": {
          "base_uri": "https://localhost:8080/",
          "height": 237
        },
        "id": "mZedii4LxVET",
        "outputId": "5372a1fa-b9ba-43d2-d3eb-0d902e423d51"
      },
      "source": [
        "data"
      ],
      "execution_count": 150,
      "outputs": [
        {
          "output_type": "execute_result",
          "data": {
            "text/html": [
              "<div>\n",
              "<style scoped>\n",
              "    .dataframe tbody tr th:only-of-type {\n",
              "        vertical-align: middle;\n",
              "    }\n",
              "\n",
              "    .dataframe tbody tr th {\n",
              "        vertical-align: top;\n",
              "    }\n",
              "\n",
              "    .dataframe thead th {\n",
              "        text-align: right;\n",
              "    }\n",
              "</style>\n",
              "<table border=\"1\" class=\"dataframe\">\n",
              "  <thead>\n",
              "    <tr style=\"text-align: right;\">\n",
              "      <th></th>\n",
              "      <th>Day 1</th>\n",
              "      <th>Day 2</th>\n",
              "      <th>Day 3</th>\n",
              "      <th>Target</th>\n",
              "    </tr>\n",
              "  </thead>\n",
              "  <tbody>\n",
              "    <tr>\n",
              "      <th>0</th>\n",
              "      <td>30</td>\n",
              "      <td>40</td>\n",
              "      <td>50</td>\n",
              "      <td>20</td>\n",
              "    </tr>\n",
              "    <tr>\n",
              "      <th>1</th>\n",
              "      <td>40</td>\n",
              "      <td>50</td>\n",
              "      <td>20</td>\n",
              "      <td>15</td>\n",
              "    </tr>\n",
              "    <tr>\n",
              "      <th>2</th>\n",
              "      <td>50</td>\n",
              "      <td>20</td>\n",
              "      <td>15</td>\n",
              "      <td>60</td>\n",
              "    </tr>\n",
              "    <tr>\n",
              "      <th>3</th>\n",
              "      <td>20</td>\n",
              "      <td>15</td>\n",
              "      <td>60</td>\n",
              "      <td>70</td>\n",
              "    </tr>\n",
              "    <tr>\n",
              "      <th>4</th>\n",
              "      <td>15</td>\n",
              "      <td>60</td>\n",
              "      <td>70</td>\n",
              "      <td>50</td>\n",
              "    </tr>\n",
              "    <tr>\n",
              "      <th>5</th>\n",
              "      <td>60</td>\n",
              "      <td>70</td>\n",
              "      <td>50</td>\n",
              "      <td>40</td>\n",
              "    </tr>\n",
              "  </tbody>\n",
              "</table>\n",
              "</div>"
            ],
            "text/plain": [
              "   Day 1  Day 2  Day 3  Target\n",
              "0     30     40     50      20\n",
              "1     40     50     20      15\n",
              "2     50     20     15      60\n",
              "3     20     15     60      70\n",
              "4     15     60     70      50\n",
              "5     60     70     50      40"
            ]
          },
          "metadata": {},
          "execution_count": 150
        }
      ]
    },
    {
      "cell_type": "code",
      "metadata": {
        "id": "xjPwOGLCy2k7"
      },
      "source": [
        "x = data.drop('Target',axis=1)\n",
        "y = data['Target']"
      ],
      "execution_count": 151,
      "outputs": []
    },
    {
      "cell_type": "code",
      "metadata": {
        "id": "2bhVn-VX0gHs"
      },
      "source": [
        "x_trans = Normalizer(norm='max').fit_transform(x)"
      ],
      "execution_count": 152,
      "outputs": []
    },
    {
      "cell_type": "code",
      "metadata": {
        "colab": {
          "base_uri": "https://localhost:8080/"
        },
        "id": "uL2u8EFE1QYY",
        "outputId": "faa23535-351c-494a-b8aa-c72a71363dbe"
      },
      "source": [
        "np.reshape(array(y),(1,-1))"
      ],
      "execution_count": 153,
      "outputs": [
        {
          "output_type": "execute_result",
          "data": {
            "text/plain": [
              "array([[20, 15, 60, 70, 50, 40]])"
            ]
          },
          "metadata": {},
          "execution_count": 153
        }
      ]
    },
    {
      "cell_type": "code",
      "metadata": {
        "id": "E3JNOxux1BKa"
      },
      "source": [
        "y = Normalizer(norm='max').fit_transform(np.reshape(array(y),(1,-1)))"
      ],
      "execution_count": 154,
      "outputs": []
    },
    {
      "cell_type": "code",
      "metadata": {
        "colab": {
          "base_uri": "https://localhost:8080/"
        },
        "id": "ui03lru81pxq",
        "outputId": "159728b6-3e0f-4599-a34c-5dab7a7ca671"
      },
      "source": [
        "y"
      ],
      "execution_count": 155,
      "outputs": [
        {
          "output_type": "execute_result",
          "data": {
            "text/plain": [
              "array([[0.28571429, 0.21428571, 0.85714286, 1.        , 0.71428571,\n",
              "        0.57142857]])"
            ]
          },
          "metadata": {},
          "execution_count": 155
        }
      ]
    },
    {
      "cell_type": "code",
      "metadata": {
        "colab": {
          "base_uri": "https://localhost:8080/"
        },
        "id": "miYp419hzCKN",
        "outputId": "8ad5c538-6415-4c4a-8daf-2bc869309911"
      },
      "source": [
        "x_trans"
      ],
      "execution_count": 156,
      "outputs": [
        {
          "output_type": "execute_result",
          "data": {
            "text/plain": [
              "array([[0.6       , 0.8       , 1.        ],\n",
              "       [0.8       , 1.        , 0.4       ],\n",
              "       [1.        , 0.4       , 0.3       ],\n",
              "       [0.33333333, 0.25      , 1.        ],\n",
              "       [0.21428571, 0.85714286, 1.        ],\n",
              "       [0.85714286, 1.        , 0.71428571]])"
            ]
          },
          "metadata": {},
          "execution_count": 156
        }
      ]
    },
    {
      "cell_type": "code",
      "metadata": {
        "id": "FBy33aWt085Y"
      },
      "source": [
        ""
      ],
      "execution_count": 156,
      "outputs": []
    },
    {
      "cell_type": "code",
      "metadata": {
        "colab": {
          "base_uri": "https://localhost:8080/"
        },
        "id": "zHNc9ARSyPoq",
        "outputId": "09bb07bc-808b-4f0a-e9b3-294a77c6c68f"
      },
      "source": [
        "Normalizer().fit_transform(data) #transform the dataset"
      ],
      "execution_count": 157,
      "outputs": [
        {
          "output_type": "execute_result",
          "data": {
            "text/plain": [
              "array([[0.40824829, 0.54433105, 0.68041382, 0.27216553],\n",
              "       [0.58191437, 0.72739297, 0.29095719, 0.21821789],\n",
              "       [0.60971076, 0.2438843 , 0.18291323, 0.73165291],\n",
              "       [0.20936957, 0.15702718, 0.62810871, 0.73279349],\n",
              "       [0.14157875, 0.56631501, 0.66070085, 0.47192918],\n",
              "       [0.53452248, 0.62360956, 0.4454354 , 0.35634832]])"
            ]
          },
          "metadata": {},
          "execution_count": 157
        }
      ]
    },
    {
      "cell_type": "markdown",
      "metadata": {
        "id": "g5RG7tEV4rHF"
      },
      "source": [
        "ANN Model from Scratch"
      ]
    },
    {
      "cell_type": "code",
      "metadata": {
        "colab": {
          "base_uri": "https://localhost:8080/",
          "height": 35
        },
        "id": "sXN500Yh5AAO",
        "outputId": "0708a9f8-8c23-4bb8-a075-4dc47ed6cea1"
      },
      "source": [
        "'''weight_1=array([[.2,.1],[.3,.1],[.2,.1]])\n",
        "weight_2=array([[.5],[.1]])'''"
      ],
      "execution_count": 158,
      "outputs": [
        {
          "output_type": "execute_result",
          "data": {
            "application/vnd.google.colaboratory.intrinsic+json": {
              "type": "string"
            },
            "text/plain": [
              "'weight_1=array([[.2,.1],[.3,.1],[.2,.1]])\\nweight_2=array([[.5],[.1]])'"
            ]
          },
          "metadata": {},
          "execution_count": 158
        }
      ]
    },
    {
      "cell_type": "code",
      "metadata": {
        "id": "yU4XQa19_S2P"
      },
      "source": [
        "weight_1 = uniform(-1,1,(3,2)) #shape of 3 by 2\n",
        "weight_2 = uniform(-1,1,(2,1)) #shape of 2 by 1"
      ],
      "execution_count": 159,
      "outputs": []
    },
    {
      "cell_type": "code",
      "metadata": {
        "id": "vh3stVfVcH9M",
        "colab": {
          "base_uri": "https://localhost:8080/"
        },
        "outputId": "3a0de687-ce9e-4df9-8abd-35ded3e49cb1"
      },
      "source": [
        "weight_2"
      ],
      "execution_count": 160,
      "outputs": [
        {
          "output_type": "execute_result",
          "data": {
            "text/plain": [
              "array([[0.40768405],\n",
              "       [0.38340239]])"
            ]
          },
          "metadata": {},
          "execution_count": 160
        }
      ]
    },
    {
      "cell_type": "code",
      "metadata": {
        "id": "WX61X27hHaZI",
        "outputId": "6600702d-ea5e-4c15-b992-b977f5c5cf83",
        "colab": {
          "base_uri": "https://localhost:8080/"
        }
      },
      "source": [
        "weight_2[0][0]"
      ],
      "execution_count": 203,
      "outputs": [
        {
          "output_type": "execute_result",
          "data": {
            "text/plain": [
              "0.4076840511051556"
            ]
          },
          "metadata": {},
          "execution_count": 203
        }
      ]
    },
    {
      "cell_type": "code",
      "metadata": {
        "id": "3PltHgc6Hf9a",
        "outputId": "e035a15a-6743-423a-9d7e-ab10729e2641",
        "colab": {
          "base_uri": "https://localhost:8080/"
        }
      },
      "source": [
        "weight_2[1][0]"
      ],
      "execution_count": 204,
      "outputs": [
        {
          "output_type": "execute_result",
          "data": {
            "text/plain": [
              "0.383402386122782"
            ]
          },
          "metadata": {},
          "execution_count": 204
        }
      ]
    },
    {
      "cell_type": "code",
      "metadata": {
        "id": "JbUnP6qD5Z5b"
      },
      "source": [
        "x=x_trans"
      ],
      "execution_count": 161,
      "outputs": []
    },
    {
      "cell_type": "code",
      "metadata": {
        "id": "ShjAhjBs7yLn",
        "colab": {
          "base_uri": "https://localhost:8080/"
        },
        "outputId": "df081f8c-1df6-40c9-bb1b-f5e738ac11cb"
      },
      "source": [
        "x[0:batch_size]"
      ],
      "execution_count": 162,
      "outputs": [
        {
          "output_type": "execute_result",
          "data": {
            "text/plain": [
              "array([[0.6, 0.8, 1. ],\n",
              "       [0.8, 1. , 0.4]])"
            ]
          },
          "metadata": {},
          "execution_count": 162
        }
      ]
    },
    {
      "cell_type": "code",
      "metadata": {
        "id": "OY7WRbIj8Ag0",
        "colab": {
          "base_uri": "https://localhost:8080/"
        },
        "outputId": "8fbe57b3-470f-4811-87c3-ae873e5b4280"
      },
      "source": [
        "output_1 = x[0:batch_size]@weight_1\n",
        "output_1"
      ],
      "execution_count": 163,
      "outputs": [
        {
          "output_type": "execute_result",
          "data": {
            "text/plain": [
              "array([[-0.11175532, -0.42733078],\n",
              "       [ 0.00336933, -0.05275888]])"
            ]
          },
          "metadata": {},
          "execution_count": 163
        }
      ]
    },
    {
      "cell_type": "markdown",
      "metadata": {
        "id": "pZzMyJBsz3As"
      },
      "source": [
        "Activation Function"
      ]
    },
    {
      "cell_type": "code",
      "metadata": {
        "colab": {
          "base_uri": "https://localhost:8080/"
        },
        "id": "_lG0GqL26bCV",
        "outputId": "bd515349-4df6-4f8e-8857-a849535cf588"
      },
      "source": [
        "act_output_1 = sigmoid(output_1).numpy()\n",
        "act_output_1"
      ],
      "execution_count": 164,
      "outputs": [
        {
          "output_type": "execute_result",
          "data": {
            "text/plain": [
              "array([[0.47209021, 0.3947639 ],\n",
              "       [0.50084233, 0.48681334]])"
            ]
          },
          "metadata": {},
          "execution_count": 164
        }
      ]
    },
    {
      "cell_type": "code",
      "metadata": {
        "colab": {
          "base_uri": "https://localhost:8080/"
        },
        "id": "NpyD_4CS6m70",
        "outputId": "707cf541-2bae-4e7b-bdc0-ee109efe9d8c"
      },
      "source": [
        "final_output_1 = act_output_1@weight_2\n",
        "final_output_1"
      ],
      "execution_count": 165,
      "outputs": [
        {
          "output_type": "execute_result",
          "data": {
            "text/plain": [
              "array([[0.34381707],\n",
              "       [0.39083083]])"
            ]
          },
          "metadata": {},
          "execution_count": 165
        }
      ]
    },
    {
      "cell_type": "code",
      "metadata": {
        "id": "JrRp6i9b9Y3p"
      },
      "source": [
        "y_true = y[0][0:batch_size]\n",
        "y_pred = final_output_1.T[0]"
      ],
      "execution_count": 181,
      "outputs": []
    },
    {
      "cell_type": "code",
      "metadata": {
        "colab": {
          "base_uri": "https://localhost:8080/"
        },
        "id": "XqZmBzYt9lET",
        "outputId": "ae01b866-8ab6-48b2-adc8-bce171c33444"
      },
      "source": [
        "y_true"
      ],
      "execution_count": 182,
      "outputs": [
        {
          "output_type": "execute_result",
          "data": {
            "text/plain": [
              "array([0.28571429, 0.21428571])"
            ]
          },
          "metadata": {},
          "execution_count": 182
        }
      ]
    },
    {
      "cell_type": "code",
      "metadata": {
        "colab": {
          "base_uri": "https://localhost:8080/"
        },
        "id": "Ukt-Xk7_9oNk",
        "outputId": "a5d6102a-45a5-4fc1-d4b0-44d66d09f1c1"
      },
      "source": [
        "y_pred.T"
      ],
      "execution_count": 183,
      "outputs": [
        {
          "output_type": "execute_result",
          "data": {
            "text/plain": [
              "array([0.34381707, 0.39083083])"
            ]
          },
          "metadata": {},
          "execution_count": 183
        }
      ]
    },
    {
      "cell_type": "markdown",
      "metadata": {
        "id": "h3oX-mwj8x_e"
      },
      "source": [
        "Computing Mean Squared Error"
      ]
    },
    {
      "cell_type": "code",
      "metadata": {
        "colab": {
          "base_uri": "https://localhost:8080/"
        },
        "id": "dxVsqIrx81E9",
        "outputId": "7a9a8491-3a23-45e4-f7af-1f5d5a129cc4"
      },
      "source": [
        "mse(y_true,y_pred).numpy() #MSE error"
      ],
      "execution_count": 185,
      "outputs": [
        {
          "output_type": "execute_result",
          "data": {
            "text/plain": [
              "0.01727205518361269"
            ]
          },
          "metadata": {},
          "execution_count": 185
        }
      ]
    },
    {
      "cell_type": "markdown",
      "metadata": {
        "id": "vsZ8OmAkzTLd"
      },
      "source": [
        "Updating the weights using delta rules of error computation"
      ]
    },
    {
      "cell_type": "code",
      "metadata": {
        "id": "EgcG1SPDzb-u"
      },
      "source": [
        "#calculate the first order derivative of the sigmoid function \n",
        "def first_der(s, deriv=False):\n",
        "        if (deriv == True):\n",
        "            return s * (1 - s)\n",
        "        return 1/(1 + np.exp(-s))"
      ],
      "execution_count": 176,
      "outputs": []
    },
    {
      "cell_type": "code",
      "metadata": {
        "id": "Z0M82GySg0Su",
        "outputId": "a33a9a71-d3f7-4893-d871-1418f6f49b7f",
        "colab": {
          "base_uri": "https://localhost:8080/"
        }
      },
      "source": [
        "weight_2[0]"
      ],
      "execution_count": 369,
      "outputs": [
        {
          "output_type": "execute_result",
          "data": {
            "text/plain": [
              "array([0.40768405])"
            ]
          },
          "metadata": {},
          "execution_count": 369
        }
      ]
    },
    {
      "cell_type": "code",
      "metadata": {
        "id": "2R75rX-QbA9k"
      },
      "source": [
        "for i in range(100):\n",
        "   error_k = (y_true - y_pred) * first_der(y_pred, deriv=True) #error at node k\n",
        "   error_j = error_k * weight_2[0] * first_der(act_output_1[0], deriv=True) #error at node j\n",
        "   error_i = error_k * weight_2[1] * first_der(act_output_1[1], deriv=True) #error at node i\n",
        "\n",
        "   delta_weight_k = np.array(learning_param * error_k * y_pred)\n",
        "   delta_weight_k\n",
        "     "
      ],
      "execution_count": 370,
      "outputs": []
    },
    {
      "cell_type": "code",
      "metadata": {
        "id": "jLC6j_CCh7_S",
        "outputId": "b3189236-c111-4a34-fc3b-dd299fdbca66",
        "colab": {
          "base_uri": "https://localhost:8080/"
        }
      },
      "source": [
        "delta_weight_k = np.array(learning_param * error_k * y_pred)\n",
        "delta_weight_k\n",
        "\n",
        "upd = weight_2[0][0] + delta_weight_k\n",
        "upd\n",
        "\n"
      ],
      "execution_count": 378,
      "outputs": [
        {
          "output_type": "execute_result",
          "data": {
            "text/plain": [
              "array([0.40736857, 0.40653413])"
            ]
          },
          "metadata": {},
          "execution_count": 378
        }
      ]
    },
    {
      "cell_type": "code",
      "metadata": {
        "id": "HIoElxfDiyAj",
        "outputId": "e5b4b215-f710-4104-bd65-a699e751e584",
        "colab": {
          "base_uri": "https://localhost:8080/"
        }
      },
      "source": [
        "delta_weight_j = (learning_param * error_j * act_output_1[0][0])\n",
        "delta_weight_j"
      ],
      "execution_count": 381,
      "outputs": [
        {
          "output_type": "execute_result",
          "data": {
            "text/plain": [
              "array([-4.40129801e-05, -1.35298020e-04])"
            ]
          },
          "metadata": {},
          "execution_count": 381
        }
      ]
    },
    {
      "cell_type": "code",
      "metadata": {
        "id": "jYq-wxi9FmSw",
        "colab": {
          "base_uri": "https://localhost:8080/"
        },
        "outputId": "2a2d5fc1-2e81-4daa-9ef7-9aadebc990be"
      },
      "source": [
        "print(\"Updated weight_2 : \" + str(upd_weight_2))\n",
        "\n",
        "for i in range(len(weight_2)):\n",
        "      upd_weight_2 = weight_2[i][0] + delta_weight_k\n",
        "      #print(upd_weight_2) \n",
        "delta_weight_j = (learning_param * error_j * act_output_1[0][0])\n",
        "   delta_weight_j = np.array(learning_param * error_j * act_output_1[0][0])\n",
        "   for i in range(len(weight_1)):\n",
        "      upd_weight_1j = weight_1[i][0] + delta_weight_j\n",
        "      #print(upd_weight_1j)\n",
        "\n",
        "   delta_weight_i = np.array(learning_param * error_i * act_output_1[1][0])\n",
        "   for i in range(len(weight_1)-1):\n",
        "      upd_weight_1i = weight_1[0][i] + delta_weight_i\n",
        "    #print(upd_weight_1i)\n"
      ],
      "execution_count": 357,
      "outputs": [
        {
          "output_type": "stream",
          "name": "stdout",
          "text": [
            "Updated weight_2 : [0.3830869  0.38225246]\n"
          ]
        }
      ]
    },
    {
      "cell_type": "code",
      "metadata": {
        "id": "Gcf4L-j0dq52",
        "colab": {
          "base_uri": "https://localhost:8080/"
        },
        "outputId": "30439103-930e-4f50-b707-ea0ca4d600af"
      },
      "source": [
        "print(\"Updated weight_1 : \" + str(upd_weight_1j))"
      ],
      "execution_count": 355,
      "outputs": [
        {
          "output_type": "stream",
          "name": "stdout",
          "text": [
            "Updated weight_1 : [-0.1918649  -0.19195618]\n"
          ]
        }
      ]
    },
    {
      "cell_type": "code",
      "metadata": {
        "colab": {
          "base_uri": "https://localhost:8080/"
        },
        "id": "x382aPSD24Nq",
        "outputId": "ad3f3ae3-c65a-43cd-fa7a-6a1e0110ca85"
      },
      "source": [
        "print(\"Updated weight_1 : \" + str(upd_weight_1i))"
      ],
      "execution_count": 356,
      "outputs": [
        {
          "output_type": "stream",
          "name": "stdout",
          "text": [
            "Updated weight_1 : [-0.32590791 -0.32600501]\n"
          ]
        }
      ]
    }
  ]
}